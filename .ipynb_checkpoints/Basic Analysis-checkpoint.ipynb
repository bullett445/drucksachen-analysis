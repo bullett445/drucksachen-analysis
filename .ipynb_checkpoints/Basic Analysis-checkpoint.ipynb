{
 "cells": [
  {
   "cell_type": "code",
   "execution_count": 386,
   "id": "0c6db55b",
   "metadata": {},
   "outputs": [],
   "source": [
    "import sqlite3\n",
    "import pandas as pd\n",
    "import seaborn as sns\n",
    "import matplotlib.pyplot as plt\n",
    "import re\n",
    "import numpy as np\n",
    "from sklearn.feature_extraction.text import CountVectorizer\n",
    "from sklearn.model_selection import train_test_split\n",
    "from sklearn.preprocessing import StandardScaler\n",
    "from sklearn.feature_extraction.text import TfidfTransformer\n",
    "from sklearn.naive_bayes import GaussianNB\n",
    "from sklearn.ensemble import RandomForestClassifier\n",
    "from sklearn.ensemble import AdaBoostClassifier\n",
    "from sklearn.tree import DecisionTreeClassifier\n",
    "from sklearn.tree import plot_tree\n",
    "from sklearn.metrics import accuracy_score, precision_score, recall_score, confusion_matrix, ConfusionMatrixDisplay\n",
    "\n",
    "%matplotlib inline"
   ]
  },
  {
   "cell_type": "code",
   "execution_count": 2,
   "id": "d16dbd86",
   "metadata": {},
   "outputs": [],
   "source": [
    "con = sqlite3.connect(\"d:\\proj\\drucksachenbot\\drucksachen.db\")\n",
    "df = pd.read_sql_query(\"select d.erscheinungstag, d.vorlangentyp, d.titel, \"\n",
    "                       \"e.retweet_count, e.reply_count, e.like_count, e.quote_count \"\n",
    "                       \"FROM drucksachen d \"\n",
    "                       \"JOIN engagements e ON d.tweetid = e.tweetid\", con)"
   ]
  },
  {
   "cell_type": "code",
   "execution_count": 3,
   "id": "8fd36dc3",
   "metadata": {},
   "outputs": [
    {
     "data": {
      "text/html": [
       "<div>\n",
       "<style scoped>\n",
       "    .dataframe tbody tr th:only-of-type {\n",
       "        vertical-align: middle;\n",
       "    }\n",
       "\n",
       "    .dataframe tbody tr th {\n",
       "        vertical-align: top;\n",
       "    }\n",
       "\n",
       "    .dataframe thead th {\n",
       "        text-align: right;\n",
       "    }\n",
       "</style>\n",
       "<table border=\"1\" class=\"dataframe\">\n",
       "  <thead>\n",
       "    <tr style=\"text-align: right;\">\n",
       "      <th></th>\n",
       "      <th>erscheinungstag</th>\n",
       "      <th>vorlangentyp</th>\n",
       "      <th>titel</th>\n",
       "      <th>retweet_count</th>\n",
       "      <th>reply_count</th>\n",
       "      <th>like_count</th>\n",
       "      <th>quote_count</th>\n",
       "    </tr>\n",
       "  </thead>\n",
       "  <tbody>\n",
       "    <tr>\n",
       "      <th>0</th>\n",
       "      <td>22.12.2020</td>\n",
       "      <td>Antwort</td>\n",
       "      <td>Antwort der Verwaltung auf die\\r\\nAnfrage Ausb...</td>\n",
       "      <td>1</td>\n",
       "      <td>0</td>\n",
       "      <td>0</td>\n",
       "      <td>0</td>\n",
       "    </tr>\n",
       "    <tr>\n",
       "      <th>1</th>\n",
       "      <td>22.12.2020</td>\n",
       "      <td>Antwort</td>\n",
       "      <td>Antwort der Verwaltung auf die\\r\\nAnfrage Unte...</td>\n",
       "      <td>0</td>\n",
       "      <td>0</td>\n",
       "      <td>0</td>\n",
       "      <td>0</td>\n",
       "    </tr>\n",
       "    <tr>\n",
       "      <th>2</th>\n",
       "      <td>22.12.2020</td>\n",
       "      <td>Antwort</td>\n",
       "      <td>Antwort der Verwaltung auf die\\r\\nAnfrage Stär...</td>\n",
       "      <td>0</td>\n",
       "      <td>0</td>\n",
       "      <td>0</td>\n",
       "      <td>0</td>\n",
       "    </tr>\n",
       "    <tr>\n",
       "      <th>3</th>\n",
       "      <td>22.12.2020</td>\n",
       "      <td>Antwort</td>\n",
       "      <td>Antwort der Verwaltung auf die\\r\\nAnfrage GS T...</td>\n",
       "      <td>0</td>\n",
       "      <td>0</td>\n",
       "      <td>0</td>\n",
       "      <td>0</td>\n",
       "    </tr>\n",
       "    <tr>\n",
       "      <th>4</th>\n",
       "      <td>22.12.2020</td>\n",
       "      <td>Antwort</td>\n",
       "      <td>Antwort der Verwaltung auf die\\r\\nAnfrage der ...</td>\n",
       "      <td>0</td>\n",
       "      <td>0</td>\n",
       "      <td>0</td>\n",
       "      <td>0</td>\n",
       "    </tr>\n",
       "  </tbody>\n",
       "</table>\n",
       "</div>"
      ],
      "text/plain": [
       "  erscheinungstag vorlangentyp  \\\n",
       "0      22.12.2020      Antwort   \n",
       "1      22.12.2020      Antwort   \n",
       "2      22.12.2020      Antwort   \n",
       "3      22.12.2020      Antwort   \n",
       "4      22.12.2020      Antwort   \n",
       "\n",
       "                                               titel  retweet_count  \\\n",
       "0  Antwort der Verwaltung auf die\\r\\nAnfrage Ausb...              1   \n",
       "1  Antwort der Verwaltung auf die\\r\\nAnfrage Unte...              0   \n",
       "2  Antwort der Verwaltung auf die\\r\\nAnfrage Stär...              0   \n",
       "3  Antwort der Verwaltung auf die\\r\\nAnfrage GS T...              0   \n",
       "4  Antwort der Verwaltung auf die\\r\\nAnfrage der ...              0   \n",
       "\n",
       "   reply_count  like_count  quote_count  \n",
       "0            0           0            0  \n",
       "1            0           0            0  \n",
       "2            0           0            0  \n",
       "3            0           0            0  \n",
       "4            0           0            0  "
      ]
     },
     "execution_count": 3,
     "metadata": {},
     "output_type": "execute_result"
    }
   ],
   "source": [
    "df.head()"
   ]
  },
  {
   "cell_type": "code",
   "execution_count": 360,
   "id": "96bd9f31",
   "metadata": {
    "scrolled": true
   },
   "outputs": [
    {
     "data": {
      "text/html": [
       "<div>\n",
       "<style scoped>\n",
       "    .dataframe tbody tr th:only-of-type {\n",
       "        vertical-align: middle;\n",
       "    }\n",
       "\n",
       "    .dataframe tbody tr th {\n",
       "        vertical-align: top;\n",
       "    }\n",
       "\n",
       "    .dataframe thead th {\n",
       "        text-align: right;\n",
       "    }\n",
       "</style>\n",
       "<table border=\"1\" class=\"dataframe\">\n",
       "  <thead>\n",
       "    <tr style=\"text-align: right;\">\n",
       "      <th></th>\n",
       "      <th>retweet_count</th>\n",
       "      <th>reply_count</th>\n",
       "      <th>like_count</th>\n",
       "      <th>quote_count</th>\n",
       "      <th>engagement</th>\n",
       "    </tr>\n",
       "  </thead>\n",
       "  <tbody>\n",
       "    <tr>\n",
       "      <th>count</th>\n",
       "      <td>5219.000000</td>\n",
       "      <td>5219.000000</td>\n",
       "      <td>5219.000000</td>\n",
       "      <td>5219.000000</td>\n",
       "      <td>5219.000000</td>\n",
       "    </tr>\n",
       "    <tr>\n",
       "      <th>mean</th>\n",
       "      <td>0.093121</td>\n",
       "      <td>0.011113</td>\n",
       "      <td>0.100594</td>\n",
       "      <td>0.116497</td>\n",
       "      <td>0.321326</td>\n",
       "    </tr>\n",
       "    <tr>\n",
       "      <th>std</th>\n",
       "      <td>0.315300</td>\n",
       "      <td>0.135183</td>\n",
       "      <td>0.443899</td>\n",
       "      <td>0.332006</td>\n",
       "      <td>0.775504</td>\n",
       "    </tr>\n",
       "    <tr>\n",
       "      <th>min</th>\n",
       "      <td>0.000000</td>\n",
       "      <td>0.000000</td>\n",
       "      <td>0.000000</td>\n",
       "      <td>0.000000</td>\n",
       "      <td>0.000000</td>\n",
       "    </tr>\n",
       "    <tr>\n",
       "      <th>25%</th>\n",
       "      <td>0.000000</td>\n",
       "      <td>0.000000</td>\n",
       "      <td>0.000000</td>\n",
       "      <td>0.000000</td>\n",
       "      <td>0.000000</td>\n",
       "    </tr>\n",
       "    <tr>\n",
       "      <th>50%</th>\n",
       "      <td>0.000000</td>\n",
       "      <td>0.000000</td>\n",
       "      <td>0.000000</td>\n",
       "      <td>0.000000</td>\n",
       "      <td>0.000000</td>\n",
       "    </tr>\n",
       "    <tr>\n",
       "      <th>75%</th>\n",
       "      <td>0.000000</td>\n",
       "      <td>0.000000</td>\n",
       "      <td>0.000000</td>\n",
       "      <td>0.000000</td>\n",
       "      <td>0.000000</td>\n",
       "    </tr>\n",
       "    <tr>\n",
       "      <th>max</th>\n",
       "      <td>5.000000</td>\n",
       "      <td>4.000000</td>\n",
       "      <td>13.000000</td>\n",
       "      <td>2.000000</td>\n",
       "      <td>19.000000</td>\n",
       "    </tr>\n",
       "  </tbody>\n",
       "</table>\n",
       "</div>"
      ],
      "text/plain": [
       "       retweet_count  reply_count   like_count  quote_count   engagement\n",
       "count    5219.000000  5219.000000  5219.000000  5219.000000  5219.000000\n",
       "mean        0.093121     0.011113     0.100594     0.116497     0.321326\n",
       "std         0.315300     0.135183     0.443899     0.332006     0.775504\n",
       "min         0.000000     0.000000     0.000000     0.000000     0.000000\n",
       "25%         0.000000     0.000000     0.000000     0.000000     0.000000\n",
       "50%         0.000000     0.000000     0.000000     0.000000     0.000000\n",
       "75%         0.000000     0.000000     0.000000     0.000000     0.000000\n",
       "max         5.000000     4.000000    13.000000     2.000000    19.000000"
      ]
     },
     "execution_count": 360,
     "metadata": {},
     "output_type": "execute_result"
    }
   ],
   "source": [
    "df.describe()"
   ]
  },
  {
   "cell_type": "code",
   "execution_count": 325,
   "id": "e0089a42",
   "metadata": {},
   "outputs": [],
   "source": [
    "df['erscheinungstag_dt'] = pd.to_datetime(df['erscheinungstag'], dayfirst=True)"
   ]
  },
  {
   "cell_type": "code",
   "execution_count": 328,
   "id": "2fe5d931",
   "metadata": {},
   "outputs": [
    {
     "data": {
      "text/plain": [
       "(Timestamp('2020-12-22 00:00:00'), Timestamp('2022-02-09 00:00:00'))"
      ]
     },
     "execution_count": 328,
     "metadata": {},
     "output_type": "execute_result"
    }
   ],
   "source": [
    "df['erscheinungstag_dt'].min(), df['erscheinungstag_dt'].max()"
   ]
  },
  {
   "cell_type": "code",
   "execution_count": 340,
   "id": "57a871b4",
   "metadata": {},
   "outputs": [
    {
     "data": {
      "text/plain": [
       "<AxesSubplot:xlabel='erscheinungstag_dt'>"
      ]
     },
     "execution_count": 340,
     "metadata": {},
     "output_type": "execute_result"
    },
    {
     "data": {
      "image/png": "[encoded data removed]",
      "text/plain": [
       "<Figure size 1008x576 with 1 Axes>"
      ]
     },
     "metadata": {
      "needs_background": "light"
     },
     "output_type": "display_data"
    }
   ],
   "source": [
    "df.groupby([pd.Grouper(key='erscheinungstag_dt', freq='W-MON')]).count()['titel'].plot(figsize=(14,8))"
   ]
  },
  {
   "cell_type": "code",
   "execution_count": 6,
   "id": "7b99653d",
   "metadata": {
    "scrolled": true
   },
   "outputs": [
    {
     "data": {
      "text/html": [
       "<div>\n",
       "<style scoped>\n",
       "    .dataframe tbody tr th:only-of-type {\n",
       "        vertical-align: middle;\n",
       "    }\n",
       "\n",
       "    .dataframe tbody tr th {\n",
       "        vertical-align: top;\n",
       "    }\n",
       "\n",
       "    .dataframe thead th {\n",
       "        text-align: right;\n",
       "    }\n",
       "</style>\n",
       "<table border=\"1\" class=\"dataframe\">\n",
       "  <thead>\n",
       "    <tr style=\"text-align: right;\">\n",
       "      <th></th>\n",
       "      <th>retweet_count</th>\n",
       "      <th>reply_count</th>\n",
       "      <th>like_count</th>\n",
       "      <th>quote_count</th>\n",
       "    </tr>\n",
       "  </thead>\n",
       "  <tbody>\n",
       "    <tr>\n",
       "      <th>retweet_count</th>\n",
       "      <td>1.000000</td>\n",
       "      <td>0.182543</td>\n",
       "      <td>0.312345</td>\n",
       "      <td>-0.026761</td>\n",
       "    </tr>\n",
       "    <tr>\n",
       "      <th>reply_count</th>\n",
       "      <td>0.182543</td>\n",
       "      <td>1.000000</td>\n",
       "      <td>0.243248</td>\n",
       "      <td>0.069358</td>\n",
       "    </tr>\n",
       "    <tr>\n",
       "      <th>like_count</th>\n",
       "      <td>0.312345</td>\n",
       "      <td>0.243248</td>\n",
       "      <td>1.000000</td>\n",
       "      <td>0.148032</td>\n",
       "    </tr>\n",
       "    <tr>\n",
       "      <th>quote_count</th>\n",
       "      <td>-0.026761</td>\n",
       "      <td>0.069358</td>\n",
       "      <td>0.148032</td>\n",
       "      <td>1.000000</td>\n",
       "    </tr>\n",
       "  </tbody>\n",
       "</table>\n",
       "</div>"
      ],
      "text/plain": [
       "               retweet_count  reply_count  like_count  quote_count\n",
       "retweet_count       1.000000     0.182543    0.312345    -0.026761\n",
       "reply_count         0.182543     1.000000    0.243248     0.069358\n",
       "like_count          0.312345     0.243248    1.000000     0.148032\n",
       "quote_count        -0.026761     0.069358    0.148032     1.000000"
      ]
     },
     "execution_count": 6,
     "metadata": {},
     "output_type": "execute_result"
    }
   ],
   "source": [
    "df[['retweet_count', 'reply_count', 'like_count', 'quote_count']].corr()"
   ]
  },
  {
   "cell_type": "code",
   "execution_count": 7,
   "id": "d2614f18",
   "metadata": {
    "scrolled": true
   },
   "outputs": [
    {
     "data": {
      "image/png": "[encoded data removed]",
      "text/plain": [
       "<Figure size 1296x720 with 1 Axes>"
      ]
     },
     "metadata": {
      "needs_background": "light"
     },
     "output_type": "display_data"
    }
   ],
   "source": [
    "fig, ax1 = plt.subplots(figsize=(18, 10))\n",
    "sns.barplot(data=df, x=df.index, y=\"retweet_count\", ax=ax1)\n",
    "sns.despine(fig)"
   ]
  },
  {
   "cell_type": "code",
   "execution_count": 8,
   "id": "8b856a32",
   "metadata": {},
   "outputs": [],
   "source": [
    "df['engagement'] = df['retweet_count'] + df['reply_count'] + df['like_count'] + df['quote_count']"
   ]
  },
  {
   "cell_type": "code",
   "execution_count": 9,
   "id": "b3b4994b",
   "metadata": {},
   "outputs": [
    {
     "data": {
      "image/png": "[encoded data removed]",
      "text/plain": [
       "<Figure size 1296x720 with 1 Axes>"
      ]
     },
     "metadata": {
      "needs_background": "light"
     },
     "output_type": "display_data"
    }
   ],
   "source": [
    "fig, ax1 = plt.subplots(figsize=(18, 10))\n",
    "sns.barplot(data=df, x=df.index, y=\"engagement\", ax=ax1)\n",
    "sns.despine(fig)"
   ]
  },
  {
   "cell_type": "code",
   "execution_count": 342,
   "id": "1275e487",
   "metadata": {},
   "outputs": [
    {
     "data": {
      "text/plain": [
       "array(['Antwort', 'Neufassung', 'Beschlussdrucksache',\n",
       "       'Informationsdrucksache', 'Anfrage', 'Entscheidung', 'Antrag',\n",
       "       'Ergänzung', 'Haushaltsantrag', 'Stellungnahme'], dtype=object)"
      ]
     },
     "execution_count": 342,
     "metadata": {},
     "output_type": "execute_result"
    }
   ],
   "source": [
    "df['vorlangentyp'].unique()"
   ]
  },
  {
   "cell_type": "code",
   "execution_count": 353,
   "id": "649ad31d",
   "metadata": {},
   "outputs": [
    {
     "data": {
      "text/plain": [
       "<AxesSubplot:>"
      ]
     },
     "execution_count": 353,
     "metadata": {},
     "output_type": "execute_result"
    },
    {
     "data": {
      "image/png": "[encoded data removed]",
      "text/plain": [
       "<Figure size 432x288 with 1 Axes>"
      ]
     },
     "metadata": {
      "needs_background": "light"
     },
     "output_type": "display_data"
    }
   ],
   "source": [
    "df['vorlangentyp'].value_counts(ascending=True).plot.barh()"
   ]
  },
  {
   "cell_type": "code",
   "execution_count": null,
   "id": "9c644d95",
   "metadata": {},
   "outputs": [],
   "source": []
  },
  {
   "cell_type": "code",
   "execution_count": 11,
   "id": "8f13901c",
   "metadata": {},
   "outputs": [
    {
     "data": {
      "text/html": [
       "<div>\n",
       "<style scoped>\n",
       "    .dataframe tbody tr th:only-of-type {\n",
       "        vertical-align: middle;\n",
       "    }\n",
       "\n",
       "    .dataframe tbody tr th {\n",
       "        vertical-align: top;\n",
       "    }\n",
       "\n",
       "    .dataframe thead th {\n",
       "        text-align: right;\n",
       "    }\n",
       "</style>\n",
       "<table border=\"1\" class=\"dataframe\">\n",
       "  <thead>\n",
       "    <tr style=\"text-align: right;\">\n",
       "      <th></th>\n",
       "      <th>retweet_count</th>\n",
       "      <th>reply_count</th>\n",
       "      <th>like_count</th>\n",
       "      <th>quote_count</th>\n",
       "      <th>engagement</th>\n",
       "    </tr>\n",
       "    <tr>\n",
       "      <th>vorlangentyp</th>\n",
       "      <th></th>\n",
       "      <th></th>\n",
       "      <th></th>\n",
       "      <th></th>\n",
       "      <th></th>\n",
       "    </tr>\n",
       "  </thead>\n",
       "  <tbody>\n",
       "    <tr>\n",
       "      <th>Anfrage</th>\n",
       "      <td>848</td>\n",
       "      <td>848</td>\n",
       "      <td>848</td>\n",
       "      <td>848</td>\n",
       "      <td>848</td>\n",
       "    </tr>\n",
       "    <tr>\n",
       "      <th>Antrag</th>\n",
       "      <td>1328</td>\n",
       "      <td>1328</td>\n",
       "      <td>1328</td>\n",
       "      <td>1328</td>\n",
       "      <td>1328</td>\n",
       "    </tr>\n",
       "    <tr>\n",
       "      <th>Antwort</th>\n",
       "      <td>798</td>\n",
       "      <td>798</td>\n",
       "      <td>798</td>\n",
       "      <td>798</td>\n",
       "      <td>798</td>\n",
       "    </tr>\n",
       "    <tr>\n",
       "      <th>Beschlussdrucksache</th>\n",
       "      <td>522</td>\n",
       "      <td>522</td>\n",
       "      <td>522</td>\n",
       "      <td>522</td>\n",
       "      <td>522</td>\n",
       "    </tr>\n",
       "    <tr>\n",
       "      <th>Entscheidung</th>\n",
       "      <td>694</td>\n",
       "      <td>694</td>\n",
       "      <td>694</td>\n",
       "      <td>694</td>\n",
       "      <td>694</td>\n",
       "    </tr>\n",
       "    <tr>\n",
       "      <th>Ergänzung</th>\n",
       "      <td>14</td>\n",
       "      <td>14</td>\n",
       "      <td>14</td>\n",
       "      <td>14</td>\n",
       "      <td>14</td>\n",
       "    </tr>\n",
       "    <tr>\n",
       "      <th>Haushaltsantrag</th>\n",
       "      <td>673</td>\n",
       "      <td>673</td>\n",
       "      <td>673</td>\n",
       "      <td>673</td>\n",
       "      <td>673</td>\n",
       "    </tr>\n",
       "    <tr>\n",
       "      <th>Informationsdrucksache</th>\n",
       "      <td>172</td>\n",
       "      <td>172</td>\n",
       "      <td>172</td>\n",
       "      <td>172</td>\n",
       "      <td>172</td>\n",
       "    </tr>\n",
       "    <tr>\n",
       "      <th>Neufassung</th>\n",
       "      <td>160</td>\n",
       "      <td>160</td>\n",
       "      <td>160</td>\n",
       "      <td>160</td>\n",
       "      <td>160</td>\n",
       "    </tr>\n",
       "    <tr>\n",
       "      <th>Stellungnahme</th>\n",
       "      <td>10</td>\n",
       "      <td>10</td>\n",
       "      <td>10</td>\n",
       "      <td>10</td>\n",
       "      <td>10</td>\n",
       "    </tr>\n",
       "  </tbody>\n",
       "</table>\n",
       "</div>"
      ],
      "text/plain": [
       "                        retweet_count  reply_count  like_count  quote_count  \\\n",
       "vorlangentyp                                                                  \n",
       "Anfrage                           848          848         848          848   \n",
       "Antrag                           1328         1328        1328         1328   \n",
       "Antwort                           798          798         798          798   \n",
       "Beschlussdrucksache               522          522         522          522   \n",
       "Entscheidung                      694          694         694          694   \n",
       "Ergänzung                          14           14          14           14   \n",
       "Haushaltsantrag                   673          673         673          673   \n",
       "Informationsdrucksache            172          172         172          172   \n",
       "Neufassung                        160          160         160          160   \n",
       "Stellungnahme                      10           10          10           10   \n",
       "\n",
       "                        engagement  \n",
       "vorlangentyp                        \n",
       "Anfrage                        848  \n",
       "Antrag                        1328  \n",
       "Antwort                        798  \n",
       "Beschlussdrucksache            522  \n",
       "Entscheidung                   694  \n",
       "Ergänzung                       14  \n",
       "Haushaltsantrag                673  \n",
       "Informationsdrucksache         172  \n",
       "Neufassung                     160  \n",
       "Stellungnahme                   10  "
      ]
     },
     "execution_count": 11,
     "metadata": {},
     "output_type": "execute_result"
    }
   ],
   "source": [
    "numerics = ['retweet_count', 'reply_count', 'like_count', 'quote_count', 'engagement']\n",
    "df[['vorlangentyp'] + numerics].groupby('vorlangentyp').count()"
   ]
  },
  {
   "cell_type": "code",
   "execution_count": 361,
   "id": "a4f16a2c",
   "metadata": {},
   "outputs": [
    {
     "data": {
      "text/plain": [
       "retweet_count     5\n",
       "reply_count       4\n",
       "like_count       13\n",
       "quote_count       2\n",
       "engagement       19\n",
       "dtype: int64"
      ]
     },
     "execution_count": 361,
     "metadata": {},
     "output_type": "execute_result"
    }
   ],
   "source": [
    "df[numerics].max()"
   ]
  },
  {
   "cell_type": "code",
   "execution_count": 378,
   "id": "40aeb963",
   "metadata": {},
   "outputs": [
    {
     "data": {
      "text/plain": [
       "<AxesSubplot:title={'center':'overall engagement'}, ylabel='% of tweets'>"
      ]
     },
     "execution_count": 378,
     "metadata": {},
     "output_type": "execute_result"
    },
    {
     "data": {
      "image/png": "[encoded data removed]",
      "text/plain": [
       "<Figure size 432x288 with 1 Axes>"
      ]
     },
     "metadata": {
      "needs_background": "light"
     },
     "output_type": "display_data"
    }
   ],
   "source": [
    "(df[numerics][df[numerics] > 0].count() / len(df) * 100).plot.bar(ylabel='% of tweets', title='overall engagement')"
   ]
  },
  {
   "cell_type": "code",
   "execution_count": 377,
   "id": "41631132",
   "metadata": {},
   "outputs": [
    {
     "data": {
      "text/plain": [
       "<AxesSubplot:xlabel='engagement', ylabel='Count'>"
      ]
     },
     "execution_count": 377,
     "metadata": {},
     "output_type": "execute_result"
    },
    {
     "data": {
      "image/png": "[encoded data removed]",
      "text/plain": [
       "<Figure size 432x288 with 1 Axes>"
      ]
     },
     "metadata": {
      "needs_background": "light"
     },
     "output_type": "display_data"
    }
   ],
   "source": [
    "sns.ecdfplot(df['engagement'][df['engagement'] > 0], stat=\"count\")"
   ]
  },
  {
   "cell_type": "code",
   "execution_count": 12,
   "id": "03c586a7",
   "metadata": {},
   "outputs": [],
   "source": [
    "engagement_by_type = df[['vorlangentyp'] + numerics].groupby('vorlangentyp').sum() / \\\n",
    "df[['vorlangentyp'] + numerics].groupby('vorlangentyp').count()"
   ]
  },
  {
   "cell_type": "code",
   "execution_count": 13,
   "id": "770c3f67",
   "metadata": {},
   "outputs": [
    {
     "data": {
      "text/html": [
       "<div>\n",
       "<style scoped>\n",
       "    .dataframe tbody tr th:only-of-type {\n",
       "        vertical-align: middle;\n",
       "    }\n",
       "\n",
       "    .dataframe tbody tr th {\n",
       "        vertical-align: top;\n",
       "    }\n",
       "\n",
       "    .dataframe thead th {\n",
       "        text-align: right;\n",
       "    }\n",
       "</style>\n",
       "<table border=\"1\" class=\"dataframe\">\n",
       "  <thead>\n",
       "    <tr style=\"text-align: right;\">\n",
       "      <th></th>\n",
       "      <th>retweet_count</th>\n",
       "      <th>reply_count</th>\n",
       "      <th>like_count</th>\n",
       "      <th>quote_count</th>\n",
       "      <th>engagement</th>\n",
       "    </tr>\n",
       "    <tr>\n",
       "      <th>vorlangentyp</th>\n",
       "      <th></th>\n",
       "      <th></th>\n",
       "      <th></th>\n",
       "      <th></th>\n",
       "      <th></th>\n",
       "    </tr>\n",
       "  </thead>\n",
       "  <tbody>\n",
       "    <tr>\n",
       "      <th>Anfrage</th>\n",
       "      <td>0.135613</td>\n",
       "      <td>0.017689</td>\n",
       "      <td>0.146226</td>\n",
       "      <td>0.113208</td>\n",
       "      <td>0.412736</td>\n",
       "    </tr>\n",
       "    <tr>\n",
       "      <th>Antrag</th>\n",
       "      <td>0.124247</td>\n",
       "      <td>0.016566</td>\n",
       "      <td>0.118223</td>\n",
       "      <td>0.167922</td>\n",
       "      <td>0.426958</td>\n",
       "    </tr>\n",
       "    <tr>\n",
       "      <th>Antwort</th>\n",
       "      <td>0.072682</td>\n",
       "      <td>0.015038</td>\n",
       "      <td>0.098997</td>\n",
       "      <td>0.112782</td>\n",
       "      <td>0.299499</td>\n",
       "    </tr>\n",
       "    <tr>\n",
       "      <th>Beschlussdrucksache</th>\n",
       "      <td>0.030651</td>\n",
       "      <td>0.001916</td>\n",
       "      <td>0.040230</td>\n",
       "      <td>0.045977</td>\n",
       "      <td>0.118774</td>\n",
       "    </tr>\n",
       "    <tr>\n",
       "      <th>Entscheidung</th>\n",
       "      <td>0.148415</td>\n",
       "      <td>0.010086</td>\n",
       "      <td>0.155620</td>\n",
       "      <td>0.182997</td>\n",
       "      <td>0.497118</td>\n",
       "    </tr>\n",
       "    <tr>\n",
       "      <th>Ergänzung</th>\n",
       "      <td>0.357143</td>\n",
       "      <td>0.071429</td>\n",
       "      <td>0.357143</td>\n",
       "      <td>0.142857</td>\n",
       "      <td>0.928571</td>\n",
       "    </tr>\n",
       "    <tr>\n",
       "      <th>Haushaltsantrag</th>\n",
       "      <td>0.002972</td>\n",
       "      <td>0.000000</td>\n",
       "      <td>0.013373</td>\n",
       "      <td>0.017831</td>\n",
       "      <td>0.034175</td>\n",
       "    </tr>\n",
       "    <tr>\n",
       "      <th>Informationsdrucksache</th>\n",
       "      <td>0.034884</td>\n",
       "      <td>0.000000</td>\n",
       "      <td>0.040698</td>\n",
       "      <td>0.075581</td>\n",
       "      <td>0.151163</td>\n",
       "    </tr>\n",
       "    <tr>\n",
       "      <th>Neufassung</th>\n",
       "      <td>0.081250</td>\n",
       "      <td>0.000000</td>\n",
       "      <td>0.093750</td>\n",
       "      <td>0.131250</td>\n",
       "      <td>0.306250</td>\n",
       "    </tr>\n",
       "    <tr>\n",
       "      <th>Stellungnahme</th>\n",
       "      <td>0.300000</td>\n",
       "      <td>0.000000</td>\n",
       "      <td>0.000000</td>\n",
       "      <td>0.000000</td>\n",
       "      <td>0.300000</td>\n",
       "    </tr>\n",
       "  </tbody>\n",
       "</table>\n",
       "</div>"
      ],
      "text/plain": [
       "                        retweet_count  reply_count  like_count  quote_count  \\\n",
       "vorlangentyp                                                                  \n",
       "Anfrage                      0.135613     0.017689    0.146226     0.113208   \n",
       "Antrag                       0.124247     0.016566    0.118223     0.167922   \n",
       "Antwort                      0.072682     0.015038    0.098997     0.112782   \n",
       "Beschlussdrucksache          0.030651     0.001916    0.040230     0.045977   \n",
       "Entscheidung                 0.148415     0.010086    0.155620     0.182997   \n",
       "Ergänzung                    0.357143     0.071429    0.357143     0.142857   \n",
       "Haushaltsantrag              0.002972     0.000000    0.013373     0.017831   \n",
       "Informationsdrucksache       0.034884     0.000000    0.040698     0.075581   \n",
       "Neufassung                   0.081250     0.000000    0.093750     0.131250   \n",
       "Stellungnahme                0.300000     0.000000    0.000000     0.000000   \n",
       "\n",
       "                        engagement  \n",
       "vorlangentyp                        \n",
       "Anfrage                   0.412736  \n",
       "Antrag                    0.426958  \n",
       "Antwort                   0.299499  \n",
       "Beschlussdrucksache       0.118774  \n",
       "Entscheidung              0.497118  \n",
       "Ergänzung                 0.928571  \n",
       "Haushaltsantrag           0.034175  \n",
       "Informationsdrucksache    0.151163  \n",
       "Neufassung                0.306250  \n",
       "Stellungnahme             0.300000  "
      ]
     },
     "execution_count": 13,
     "metadata": {},
     "output_type": "execute_result"
    }
   ],
   "source": [
    "engagement_by_type"
   ]
  },
  {
   "cell_type": "code",
   "execution_count": 14,
   "id": "cd9fe2bd",
   "metadata": {},
   "outputs": [
    {
     "data": {
      "text/plain": [
       "<AxesSubplot:ylabel='vorlangentyp'>"
      ]
     },
     "execution_count": 14,
     "metadata": {},
     "output_type": "execute_result"
    },
    {
     "data": {
      "image/png": "[encoded data removed]",
      "text/plain": [
       "<Figure size 432x288 with 2 Axes>"
      ]
     },
     "metadata": {
      "needs_background": "light"
     },
     "output_type": "display_data"
    }
   ],
   "source": [
    "sns.heatmap(data=engagement_by_type[['retweet_count', 'reply_count', 'like_count', 'quote_count']])"
   ]
  },
  {
   "cell_type": "code",
   "execution_count": 15,
   "id": "b9868259",
   "metadata": {},
   "outputs": [
    {
     "data": {
      "text/html": [
       "<div>\n",
       "<style scoped>\n",
       "    .dataframe tbody tr th:only-of-type {\n",
       "        vertical-align: middle;\n",
       "    }\n",
       "\n",
       "    .dataframe tbody tr th {\n",
       "        vertical-align: top;\n",
       "    }\n",
       "\n",
       "    .dataframe thead th {\n",
       "        text-align: right;\n",
       "    }\n",
       "</style>\n",
       "<table border=\"1\" class=\"dataframe\">\n",
       "  <thead>\n",
       "    <tr style=\"text-align: right;\">\n",
       "      <th></th>\n",
       "      <th>erscheinungstag</th>\n",
       "      <th>vorlangentyp</th>\n",
       "      <th>titel</th>\n",
       "      <th>retweet_count</th>\n",
       "      <th>reply_count</th>\n",
       "      <th>like_count</th>\n",
       "      <th>quote_count</th>\n",
       "      <th>erscheinungstag_dt</th>\n",
       "      <th>engagement</th>\n",
       "    </tr>\n",
       "  </thead>\n",
       "  <tbody>\n",
       "    <tr>\n",
       "      <th>63</th>\n",
       "      <td>13.01.2021</td>\n",
       "      <td>Ergänzung</td>\n",
       "      <td>Ausbau der Lutherstraße zwischen Sallstraße un...</td>\n",
       "      <td>1</td>\n",
       "      <td>0</td>\n",
       "      <td>0</td>\n",
       "      <td>0</td>\n",
       "      <td>2021-01-13</td>\n",
       "      <td>1</td>\n",
       "    </tr>\n",
       "    <tr>\n",
       "      <th>125</th>\n",
       "      <td>19.01.2021</td>\n",
       "      <td>Ergänzung</td>\n",
       "      <td>Programmdrucksache zu den Infrastrukturmaßnahm...</td>\n",
       "      <td>0</td>\n",
       "      <td>0</td>\n",
       "      <td>0</td>\n",
       "      <td>0</td>\n",
       "      <td>2021-01-19</td>\n",
       "      <td>0</td>\n",
       "    </tr>\n",
       "    <tr>\n",
       "      <th>1221</th>\n",
       "      <td>10.03.2021</td>\n",
       "      <td>Ergänzung</td>\n",
       "      <td>1. Ergänzung zum Verwaltungsentwurf des Hausha...</td>\n",
       "      <td>0</td>\n",
       "      <td>0</td>\n",
       "      <td>0</td>\n",
       "      <td>0</td>\n",
       "      <td>2021-10-03</td>\n",
       "      <td>0</td>\n",
       "    </tr>\n",
       "    <tr>\n",
       "      <th>1436</th>\n",
       "      <td>16.03.2021</td>\n",
       "      <td>Ergänzung</td>\n",
       "      <td>2. Ergänzung zum Verwaltungsentwurf des Hausha...</td>\n",
       "      <td>0</td>\n",
       "      <td>0</td>\n",
       "      <td>0</td>\n",
       "      <td>0</td>\n",
       "      <td>2021-03-16</td>\n",
       "      <td>0</td>\n",
       "    </tr>\n",
       "    <tr>\n",
       "      <th>1702</th>\n",
       "      <td>30.03.2021</td>\n",
       "      <td>Ergänzung</td>\n",
       "      <td>\\r\\n1. Ergänzung zur Drucksache Nr. 0629/2021 ...</td>\n",
       "      <td>0</td>\n",
       "      <td>0</td>\n",
       "      <td>0</td>\n",
       "      <td>0</td>\n",
       "      <td>2021-03-30</td>\n",
       "      <td>0</td>\n",
       "    </tr>\n",
       "    <tr>\n",
       "      <th>2009</th>\n",
       "      <td>28.04.2021</td>\n",
       "      <td>Ergänzung</td>\n",
       "      <td>Änderungsanträge des Stadtbezirksrates Linden-...</td>\n",
       "      <td>0</td>\n",
       "      <td>0</td>\n",
       "      <td>0</td>\n",
       "      <td>0</td>\n",
       "      <td>2021-04-28</td>\n",
       "      <td>0</td>\n",
       "    </tr>\n",
       "    <tr>\n",
       "      <th>2060</th>\n",
       "      <td>30.04.2021</td>\n",
       "      <td>Ergänzung</td>\n",
       "      <td>Bushaltestelle „Kröpcke“ und Fahrbahnerneuerun...</td>\n",
       "      <td>0</td>\n",
       "      <td>0</td>\n",
       "      <td>0</td>\n",
       "      <td>0</td>\n",
       "      <td>2021-04-30</td>\n",
       "      <td>0</td>\n",
       "    </tr>\n",
       "    <tr>\n",
       "      <th>2377</th>\n",
       "      <td>26.05.2021</td>\n",
       "      <td>Ergänzung</td>\n",
       "      <td>Ausbau der Veloroute 08 aus der Innenstadt Han...</td>\n",
       "      <td>0</td>\n",
       "      <td>0</td>\n",
       "      <td>0</td>\n",
       "      <td>1</td>\n",
       "      <td>2021-05-26</td>\n",
       "      <td>1</td>\n",
       "    </tr>\n",
       "    <tr>\n",
       "      <th>2623</th>\n",
       "      <td>10.06.2021</td>\n",
       "      <td>Ergänzung</td>\n",
       "      <td>Antwort der Verwaltung auf die\\r\\nAnfrage Aufp...</td>\n",
       "      <td>1</td>\n",
       "      <td>0</td>\n",
       "      <td>0</td>\n",
       "      <td>0</td>\n",
       "      <td>2021-10-06</td>\n",
       "      <td>1</td>\n",
       "    </tr>\n",
       "    <tr>\n",
       "      <th>2723</th>\n",
       "      <td>18.06.2021</td>\n",
       "      <td>Ergänzung</td>\n",
       "      <td>Bebauungsplan der Innenentwicklung Nr. 473, 2....</td>\n",
       "      <td>0</td>\n",
       "      <td>0</td>\n",
       "      <td>0</td>\n",
       "      <td>0</td>\n",
       "      <td>2021-06-18</td>\n",
       "      <td>0</td>\n",
       "    </tr>\n",
       "    <tr>\n",
       "      <th>2749</th>\n",
       "      <td>22.06.2021</td>\n",
       "      <td>Ergänzung</td>\n",
       "      <td>Vorzeitige Teil-Inbetriebnahme der Stadtbahnve...</td>\n",
       "      <td>0</td>\n",
       "      <td>0</td>\n",
       "      <td>0</td>\n",
       "      <td>0</td>\n",
       "      <td>2021-06-22</td>\n",
       "      <td>0</td>\n",
       "    </tr>\n",
       "    <tr>\n",
       "      <th>3717</th>\n",
       "      <td>22.09.2021</td>\n",
       "      <td>Ergänzung</td>\n",
       "      <td>Konzept zur Aufwertung Pastor-Jaeckel-Weg / Ha...</td>\n",
       "      <td>1</td>\n",
       "      <td>0</td>\n",
       "      <td>0</td>\n",
       "      <td>0</td>\n",
       "      <td>2021-09-22</td>\n",
       "      <td>1</td>\n",
       "    </tr>\n",
       "    <tr>\n",
       "      <th>4327</th>\n",
       "      <td>19.11.2021</td>\n",
       "      <td>Ergänzung</td>\n",
       "      <td>Neubau einer Rampe am Leine-Wehr Herrenhausen ...</td>\n",
       "      <td>2</td>\n",
       "      <td>1</td>\n",
       "      <td>5</td>\n",
       "      <td>1</td>\n",
       "      <td>2021-11-19</td>\n",
       "      <td>9</td>\n",
       "    </tr>\n",
       "    <tr>\n",
       "      <th>4581</th>\n",
       "      <td>10.12.2021</td>\n",
       "      <td>Ergänzung</td>\n",
       "      <td>Änderungsantrag des Stadtbezirksrats Südstadt-...</td>\n",
       "      <td>0</td>\n",
       "      <td>0</td>\n",
       "      <td>0</td>\n",
       "      <td>0</td>\n",
       "      <td>2021-10-12</td>\n",
       "      <td>0</td>\n",
       "    </tr>\n",
       "  </tbody>\n",
       "</table>\n",
       "</div>"
      ],
      "text/plain": [
       "     erscheinungstag vorlangentyp  \\\n",
       "63        13.01.2021    Ergänzung   \n",
       "125       19.01.2021    Ergänzung   \n",
       "1221      10.03.2021    Ergänzung   \n",
       "1436      16.03.2021    Ergänzung   \n",
       "1702      30.03.2021    Ergänzung   \n",
       "2009      28.04.2021    Ergänzung   \n",
       "2060      30.04.2021    Ergänzung   \n",
       "2377      26.05.2021    Ergänzung   \n",
       "2623      10.06.2021    Ergänzung   \n",
       "2723      18.06.2021    Ergänzung   \n",
       "2749      22.06.2021    Ergänzung   \n",
       "3717      22.09.2021    Ergänzung   \n",
       "4327      19.11.2021    Ergänzung   \n",
       "4581      10.12.2021    Ergänzung   \n",
       "\n",
       "                                                  titel  retweet_count  \\\n",
       "63    Ausbau der Lutherstraße zwischen Sallstraße un...              1   \n",
       "125   Programmdrucksache zu den Infrastrukturmaßnahm...              0   \n",
       "1221  1. Ergänzung zum Verwaltungsentwurf des Hausha...              0   \n",
       "1436  2. Ergänzung zum Verwaltungsentwurf des Hausha...              0   \n",
       "1702  \\r\\n1. Ergänzung zur Drucksache Nr. 0629/2021 ...              0   \n",
       "2009  Änderungsanträge des Stadtbezirksrates Linden-...              0   \n",
       "2060  Bushaltestelle „Kröpcke“ und Fahrbahnerneuerun...              0   \n",
       "2377  Ausbau der Veloroute 08 aus der Innenstadt Han...              0   \n",
       "2623  Antwort der Verwaltung auf die\\r\\nAnfrage Aufp...              1   \n",
       "2723  Bebauungsplan der Innenentwicklung Nr. 473, 2....              0   \n",
       "2749  Vorzeitige Teil-Inbetriebnahme der Stadtbahnve...              0   \n",
       "3717  Konzept zur Aufwertung Pastor-Jaeckel-Weg / Ha...              1   \n",
       "4327  Neubau einer Rampe am Leine-Wehr Herrenhausen ...              2   \n",
       "4581  Änderungsantrag des Stadtbezirksrats Südstadt-...              0   \n",
       "\n",
       "      reply_count  like_count  quote_count erscheinungstag_dt  engagement  \n",
       "63              0           0            0         2021-01-13           1  \n",
       "125             0           0            0         2021-01-19           0  \n",
       "1221            0           0            0         2021-10-03           0  \n",
       "1436            0           0            0         2021-03-16           0  \n",
       "1702            0           0            0         2021-03-30           0  \n",
       "2009            0           0            0         2021-04-28           0  \n",
       "2060            0           0            0         2021-04-30           0  \n",
       "2377            0           0            1         2021-05-26           1  \n",
       "2623            0           0            0         2021-10-06           1  \n",
       "2723            0           0            0         2021-06-18           0  \n",
       "2749            0           0            0         2021-06-22           0  \n",
       "3717            0           0            0         2021-09-22           1  \n",
       "4327            1           5            1         2021-11-19           9  \n",
       "4581            0           0            0         2021-10-12           0  "
      ]
     },
     "execution_count": 15,
     "metadata": {},
     "output_type": "execute_result"
    }
   ],
   "source": [
    "df[df['vorlangentyp'] == 'Ergänzung']"
   ]
  },
  {
   "cell_type": "code",
   "execution_count": 16,
   "id": "3997f1d9",
   "metadata": {},
   "outputs": [
    {
     "data": {
      "text/html": [
       "<div>\n",
       "<style scoped>\n",
       "    .dataframe tbody tr th:only-of-type {\n",
       "        vertical-align: middle;\n",
       "    }\n",
       "\n",
       "    .dataframe tbody tr th {\n",
       "        vertical-align: top;\n",
       "    }\n",
       "\n",
       "    .dataframe thead th {\n",
       "        text-align: right;\n",
       "    }\n",
       "</style>\n",
       "<table border=\"1\" class=\"dataframe\">\n",
       "  <thead>\n",
       "    <tr style=\"text-align: right;\">\n",
       "      <th></th>\n",
       "      <th>erscheinungstag</th>\n",
       "      <th>vorlangentyp</th>\n",
       "      <th>titel</th>\n",
       "      <th>retweet_count</th>\n",
       "      <th>reply_count</th>\n",
       "      <th>like_count</th>\n",
       "      <th>quote_count</th>\n",
       "      <th>erscheinungstag_dt</th>\n",
       "      <th>engagement</th>\n",
       "    </tr>\n",
       "  </thead>\n",
       "  <tbody>\n",
       "    <tr>\n",
       "      <th>1705</th>\n",
       "      <td>31.03.2021</td>\n",
       "      <td>Stellungnahme</td>\n",
       "      <td>Ausrüstung der Unterrichtsräume im Stadtbezirk...</td>\n",
       "      <td>0</td>\n",
       "      <td>0</td>\n",
       "      <td>0</td>\n",
       "      <td>0</td>\n",
       "      <td>2021-03-31</td>\n",
       "      <td>0</td>\n",
       "    </tr>\n",
       "    <tr>\n",
       "      <th>1791</th>\n",
       "      <td>14.04.2021</td>\n",
       "      <td>Stellungnahme</td>\n",
       "      <td>Dringlichkeitsantrag: Schaffung von betreutem ...</td>\n",
       "      <td>0</td>\n",
       "      <td>0</td>\n",
       "      <td>0</td>\n",
       "      <td>0</td>\n",
       "      <td>2021-04-14</td>\n",
       "      <td>0</td>\n",
       "    </tr>\n",
       "    <tr>\n",
       "      <th>3086</th>\n",
       "      <td>08.07.2021</td>\n",
       "      <td>Stellungnahme</td>\n",
       "      <td>Umwidmung der Nieschlagstraße zur Fahrradstraße</td>\n",
       "      <td>1</td>\n",
       "      <td>0</td>\n",
       "      <td>0</td>\n",
       "      <td>0</td>\n",
       "      <td>2021-08-07</td>\n",
       "      <td>1</td>\n",
       "    </tr>\n",
       "    <tr>\n",
       "      <th>3087</th>\n",
       "      <td>08.07.2021</td>\n",
       "      <td>Stellungnahme</td>\n",
       "      <td>Durchgängige Markierung des Fahrradschutzstrei...</td>\n",
       "      <td>1</td>\n",
       "      <td>0</td>\n",
       "      <td>0</td>\n",
       "      <td>0</td>\n",
       "      <td>2021-08-07</td>\n",
       "      <td>1</td>\n",
       "    </tr>\n",
       "    <tr>\n",
       "      <th>3090</th>\n",
       "      <td>08.07.2021</td>\n",
       "      <td>Stellungnahme</td>\n",
       "      <td>Umwidmung Otto-Wels-Straße zur Fahrradstraße</td>\n",
       "      <td>1</td>\n",
       "      <td>0</td>\n",
       "      <td>0</td>\n",
       "      <td>0</td>\n",
       "      <td>2021-08-07</td>\n",
       "      <td>1</td>\n",
       "    </tr>\n",
       "    <tr>\n",
       "      <th>3290</th>\n",
       "      <td>17.08.2021</td>\n",
       "      <td>Stellungnahme</td>\n",
       "      <td>Löschwasserversorgung im Lohweg\\r\\nSitzung des...</td>\n",
       "      <td>0</td>\n",
       "      <td>0</td>\n",
       "      <td>0</td>\n",
       "      <td>0</td>\n",
       "      <td>2021-08-17</td>\n",
       "      <td>0</td>\n",
       "    </tr>\n",
       "    <tr>\n",
       "      <th>3435</th>\n",
       "      <td>08.09.2021</td>\n",
       "      <td>Stellungnahme</td>\n",
       "      <td>Störfall beim Zementwerk Holcim/Höver\\r\\nSitzu...</td>\n",
       "      <td>0</td>\n",
       "      <td>0</td>\n",
       "      <td>0</td>\n",
       "      <td>0</td>\n",
       "      <td>2021-08-09</td>\n",
       "      <td>0</td>\n",
       "    </tr>\n",
       "    <tr>\n",
       "      <th>4078</th>\n",
       "      <td>19.10.2021</td>\n",
       "      <td>Stellungnahme</td>\n",
       "      <td>Deckenerneuerung Anderter Straße / Höversche S...</td>\n",
       "      <td>0</td>\n",
       "      <td>0</td>\n",
       "      <td>0</td>\n",
       "      <td>0</td>\n",
       "      <td>2021-10-19</td>\n",
       "      <td>0</td>\n",
       "    </tr>\n",
       "    <tr>\n",
       "      <th>4141</th>\n",
       "      <td>02.11.2021</td>\n",
       "      <td>Stellungnahme</td>\n",
       "      <td>Projektförderung Kleiderkammer in der ehemalig...</td>\n",
       "      <td>0</td>\n",
       "      <td>0</td>\n",
       "      <td>0</td>\n",
       "      <td>0</td>\n",
       "      <td>2021-02-11</td>\n",
       "      <td>0</td>\n",
       "    </tr>\n",
       "    <tr>\n",
       "      <th>4652</th>\n",
       "      <td>15.12.2021</td>\n",
       "      <td>Stellungnahme</td>\n",
       "      <td>\\r\\n\\r\\nBahnstation Wilhelm-Tell-Straße\\r\\nSit...</td>\n",
       "      <td>0</td>\n",
       "      <td>0</td>\n",
       "      <td>0</td>\n",
       "      <td>0</td>\n",
       "      <td>2021-12-15</td>\n",
       "      <td>0</td>\n",
       "    </tr>\n",
       "  </tbody>\n",
       "</table>\n",
       "</div>"
      ],
      "text/plain": [
       "     erscheinungstag   vorlangentyp  \\\n",
       "1705      31.03.2021  Stellungnahme   \n",
       "1791      14.04.2021  Stellungnahme   \n",
       "3086      08.07.2021  Stellungnahme   \n",
       "3087      08.07.2021  Stellungnahme   \n",
       "3090      08.07.2021  Stellungnahme   \n",
       "3290      17.08.2021  Stellungnahme   \n",
       "3435      08.09.2021  Stellungnahme   \n",
       "4078      19.10.2021  Stellungnahme   \n",
       "4141      02.11.2021  Stellungnahme   \n",
       "4652      15.12.2021  Stellungnahme   \n",
       "\n",
       "                                                  titel  retweet_count  \\\n",
       "1705  Ausrüstung der Unterrichtsräume im Stadtbezirk...              0   \n",
       "1791  Dringlichkeitsantrag: Schaffung von betreutem ...              0   \n",
       "3086    Umwidmung der Nieschlagstraße zur Fahrradstraße              1   \n",
       "3087  Durchgängige Markierung des Fahrradschutzstrei...              1   \n",
       "3090       Umwidmung Otto-Wels-Straße zur Fahrradstraße              1   \n",
       "3290  Löschwasserversorgung im Lohweg\\r\\nSitzung des...              0   \n",
       "3435  Störfall beim Zementwerk Holcim/Höver\\r\\nSitzu...              0   \n",
       "4078  Deckenerneuerung Anderter Straße / Höversche S...              0   \n",
       "4141  Projektförderung Kleiderkammer in der ehemalig...              0   \n",
       "4652  \\r\\n\\r\\nBahnstation Wilhelm-Tell-Straße\\r\\nSit...              0   \n",
       "\n",
       "      reply_count  like_count  quote_count erscheinungstag_dt  engagement  \n",
       "1705            0           0            0         2021-03-31           0  \n",
       "1791            0           0            0         2021-04-14           0  \n",
       "3086            0           0            0         2021-08-07           1  \n",
       "3087            0           0            0         2021-08-07           1  \n",
       "3090            0           0            0         2021-08-07           1  \n",
       "3290            0           0            0         2021-08-17           0  \n",
       "3435            0           0            0         2021-08-09           0  \n",
       "4078            0           0            0         2021-10-19           0  \n",
       "4141            0           0            0         2021-02-11           0  \n",
       "4652            0           0            0         2021-12-15           0  "
      ]
     },
     "execution_count": 16,
     "metadata": {},
     "output_type": "execute_result"
    }
   ],
   "source": [
    "df[df['vorlangentyp'] == 'Stellungnahme']"
   ]
  },
  {
   "cell_type": "code",
   "execution_count": 17,
   "id": "a061687f",
   "metadata": {},
   "outputs": [],
   "source": [
    "stopwords = pd.read_table(\"./stopwords-de.txt\", header=None)\n",
    "stopwords = stopwords[0].values.tolist()"
   ]
  },
  {
   "cell_type": "code",
   "execution_count": 66,
   "id": "1eae6243",
   "metadata": {},
   "outputs": [
    {
     "data": {
      "text/plain": [
       "<20x95 sparse matrix of type '<class 'numpy.int64'>'\n",
       "\twith 103 stored elements in Compressed Sparse Row format>"
      ]
     },
     "execution_count": 66,
     "metadata": {},
     "output_type": "execute_result"
    }
   ],
   "source": [
    "# https://github.com/stopwords-iso/stopwords-de\n",
    "testset = df.sample(20)\n",
    "\n",
    "# get rid of numbers as words which are derived from dates\n",
    "def preprocess_text(text):\n",
    "    text = text.lower()\n",
    "    text = re.sub(r'\\d+', '', text)\n",
    "    return text\n",
    "\n",
    "vectorizer = CountVectorizer(stop_words=stopwords, \n",
    "                             preprocessor=preprocess_text,\n",
    "                             max_df=0.15, min_df=0.001)\n",
    "vectorizer.fit_transform(testset['titel'])"
   ]
  },
  {
   "cell_type": "code",
   "execution_count": 67,
   "id": "2ba0be0a",
   "metadata": {},
   "outputs": [
    {
     "data": {
      "text/plain": [
       "array(['alten', 'anderten', 'anfrage', 'anger', 'antrag', 'anträgen',\n",
       "       'antwort', 'app', 'aufstellungsbeschluss', 'ausstehende',\n",
       "       'bauabschnitt', 'baumfällarbeiten', 'bebauungsdichte',\n",
       "       'bebauungsplan', 'bemerode', 'bemeroder', 'bernd', 'bertha',\n",
       "       'beschluss', 'beteiligung', 'blühpflanzen', 'bolzplatz',\n",
       "       'bürgerpanel', 'center', 'div', 'döhren', 'döhrener', 'entlang',\n",
       "       'erdwärme', 'fahrradanlehnbügel', 'fahrradstraßen', 'festival',\n",
       "       'frühzeitige', 'fuß', 'förderung', 'gemeindeholz', 'gemeinsamen',\n",
       "       'geschwindigkeitsmessungen', 'glasreinigung', 'hannover',\n",
       "       'heerstraße', 'herrn', 'ii', 'image', 'innenentwicklung',\n",
       "       'international', 'investitionszuschuss', 'kirchrode', 'kleefeld',\n",
       "       'koordinierungsstelle', 'kultur', 'kulturtreff', 'limmer',\n",
       "       'loccumer', 'mitte', 'mitwirkung', 'nr', 'orten', 'osteuropa',\n",
       "       'papierkorb', 'peiner', 'per', 'platz', 'radweg', 'runder',\n",
       "       'sachstandsbericht', 'sanierung', 'schaffung', 'schulzentrum',\n",
       "       'sehenswürdigkeiten', 'service', 'spielplatzes', 'stadtbezirk',\n",
       "       'stadtteilidentität', 'stelinger', 'straße', 'stärkung', 'stöver',\n",
       "       'suttner', 'tanztheater', 'tisch', 'umsetzungen', 'vahrenheide',\n",
       "       'verkehrsberuhigung', 'versuchsfeld', 'verwaltung', 'vorhänge',\n",
       "       'wasserstadt', 'weidengrundbrücke', 'wülfel', 'wülferode',\n",
       "       'zuwanderung', 'zuwendungsvertrag', 'zwischenstand',\n",
       "       'öffentlichkeit'], dtype=object)"
      ]
     },
     "execution_count": 67,
     "metadata": {},
     "output_type": "execute_result"
    }
   ],
   "source": [
    "vectorizer.get_feature_names_out()"
   ]
  },
  {
   "cell_type": "code",
   "execution_count": 68,
   "id": "4dad1a7c",
   "metadata": {},
   "outputs": [
    {
     "data": {
      "text/plain": [
       "(5219, 849)"
      ]
     },
     "execution_count": 68,
     "metadata": {},
     "output_type": "execute_result"
    }
   ],
   "source": [
    "X = vectorizer.fit_transform(df['titel'])\n",
    "X.shape"
   ]
  },
  {
   "cell_type": "code",
   "execution_count": 69,
   "id": "8553b59e",
   "metadata": {},
   "outputs": [
    {
     "data": {
      "text/plain": [
       "(849,)"
      ]
     },
     "metadata": {},
     "output_type": "display_data"
    }
   ],
   "source": [
    "display(vectorizer.get_feature_names_out().shape)\n",
    "X_df = pd.DataFrame(X.todense(), columns=vectorizer.get_feature_names_out())"
   ]
  },
  {
   "cell_type": "code",
   "execution_count": 70,
   "id": "805fbac8",
   "metadata": {},
   "outputs": [
    {
     "data": {
      "text/plain": [
       "teilhaushalt       700\n",
       "produkt            570\n",
       "fraktion           384\n",
       "nr                 353\n",
       "hannover           336\n",
       "straße             315\n",
       "stadtbezirk        313\n",
       "änderungsantrag    249\n",
       "wülferode          230\n",
       "mitte              224\n",
       "bemerode           223\n",
       "kirchrode          221\n",
       "entscheidung       219\n",
       "misburg            216\n",
       "anderten           205\n",
       "limmer             194\n",
       "bothfeld           180\n",
       "vahrenheide        178\n",
       "antrag             176\n",
       "döhren             172\n",
       "dtype: int64"
      ]
     },
     "execution_count": 70,
     "metadata": {},
     "output_type": "execute_result"
    }
   ],
   "source": [
    "X_df.sum().sort_values(ascending=False).head(20)"
   ]
  },
  {
   "cell_type": "code",
   "execution_count": 71,
   "id": "e0884034",
   "metadata": {},
   "outputs": [
    {
     "data": {
      "text/plain": [
       "entwicklung        6\n",
       "sitzungen          6\n",
       "kleefelder         6\n",
       "erhebung           6\n",
       "seilbahn           6\n",
       "seelhorster        6\n",
       "schwule            6\n",
       "ersetzt            6\n",
       "schulergänzende    6\n",
       "scholz             6\n",
       "schafbrinke        6\n",
       "sau                6\n",
       "sandberge          6\n",
       "feind              6\n",
       "route              6\n",
       "rotfärbung         6\n",
       "ffp                6\n",
       "frauen             6\n",
       "freien             6\n",
       "radfahrende        6\n",
       "dtype: int64"
      ]
     },
     "execution_count": 71,
     "metadata": {},
     "output_type": "execute_result"
    }
   ],
   "source": [
    "X_df.sum().sort_values(ascending=True).head(20)"
   ]
  },
  {
   "cell_type": "code",
   "execution_count": 72,
   "id": "a68ec6b6",
   "metadata": {},
   "outputs": [
    {
     "data": {
      "text/plain": [
       "0       1\n",
       "1       0\n",
       "2       0\n",
       "3       0\n",
       "4       0\n",
       "       ..\n",
       "5214    0\n",
       "5215    0\n",
       "5216    0\n",
       "5217    0\n",
       "5218    0\n",
       "Name: engagement, Length: 5219, dtype: int64"
      ]
     },
     "execution_count": 72,
     "metadata": {},
     "output_type": "execute_result"
    }
   ],
   "source": [
    "y = df['engagement'].apply(lambda x: 1 if x > 0 else 0)\n",
    "y"
   ]
  },
  {
   "cell_type": "code",
   "execution_count": 83,
   "id": "9aa12914",
   "metadata": {},
   "outputs": [],
   "source": [
    "scaler = TfidfTransformer()\n",
    "X_scaled = scaler.fit_transform(X)\n",
    "X_train, X_test, y_train, y_test = train_test_split(X_scaled, y, test_size=0.3)"
   ]
  },
  {
   "cell_type": "code",
   "execution_count": 120,
   "id": "e02343e9",
   "metadata": {},
   "outputs": [
    {
     "data": {
      "text/plain": [
       "(381.0, 1566)"
      ]
     },
     "execution_count": 120,
     "metadata": {},
     "output_type": "execute_result"
    }
   ],
   "source": [
    "ratio_of_engaged = y.sum() / len(y)\n",
    "len_of_prediction = len(y_test)\n",
    "number_of_engaged_in_prediction = int(len_of_prediction * ratio_of_engaged)\n",
    "random_prediction = np.zeros(len_of_prediction)\n",
    "# draw some random indices for engaged in predictionn\n",
    "indexes = np.random.choice(len_of_prediction, number_of_engaged_in_prediction, replace=False)\n",
    "random_prediction[indexes] = 1\n",
    "random_prediction.sum(), len(random_prediction)"
   ]
  },
  {
   "cell_type": "code",
   "execution_count": 284,
   "id": "4dca3c45",
   "metadata": {},
   "outputs": [
    {
     "data": {
      "text/plain": [
       "RandomForestClassifier()"
      ]
     },
     "execution_count": 284,
     "metadata": {},
     "output_type": "execute_result"
    }
   ],
   "source": [
    "model = RandomForestClassifier()\n",
    "#model = AdaBoostClassifier()\n",
    "#model = DecisionTreeClassifier(max_depth=15, min_samples_split=30, min_samples_leaf=5)\n",
    "model.fit(X_train, y_train)"
   ]
  },
  {
   "cell_type": "code",
   "execution_count": 409,
   "id": "9f722941",
   "metadata": {},
   "outputs": [],
   "source": [
    "def print_scores(test, pred, title):\n",
    "    print('==== ', title, ' ====')\n",
    "    print('accuracy', accuracy_score(test, pred))\n",
    "    print('precision', precision_score(test, pred))\n",
    "    print('recall', recall_score(test, pred))\n",
    "    print('number of predictions ', len(pred))\n",
    "    display(confusion_matrix(test, pred, normalize='all'))\n",
    "    disp = ConfusionMatrixDisplay.from_predictions(test, pred, display_labels=('no engagement', 'engagement'))\n",
    "    disp.ax_.set_title(title)"
   ]
  },
  {
   "cell_type": "code",
   "execution_count": 410,
   "id": "6ad41a92",
   "metadata": {},
   "outputs": [
    {
     "name": "stdout",
     "output_type": "stream",
     "text": [
      "====  Testset  ====\n",
      "accuracy 0.7994891443167306\n",
      "precision 0.6507352941176471\n",
      "recall 0.44696969696969696\n",
      "number of predictions  1566\n"
     ]
    },
    {
     "data": {
      "text/plain": [
       "array([[0.68646232, 0.06066411],\n",
       "       [0.13984674, 0.11302682]])"
      ]
     },
     "metadata": {},
     "output_type": "display_data"
    },
    {
     "data": {
      "image/png": "[encoded data removed]",
      "text/plain": [
       "<Figure size 432x288 with 2 Axes>"
      ]
     },
     "metadata": {
      "needs_background": "light"
     },
     "output_type": "display_data"
    }
   ],
   "source": [
    "y_pred = model.predict(X_test)\n",
    "print_scores(y_test, y_pred, 'Testset')\n"
   ]
  },
  {
   "cell_type": "code",
   "execution_count": 411,
   "id": "82eb9ad3",
   "metadata": {},
   "outputs": [
    {
     "name": "stdout",
     "output_type": "stream",
     "text": [
      "====  Trainingset  ====\n",
      "accuracy 0.9542841500136874\n",
      "precision 0.9609375\n",
      "recall 0.8434285714285714\n",
      "number of predictions  3653\n"
     ]
    },
    {
     "data": {
      "text/plain": [
       "array([[0.75225842, 0.00821243],\n",
       "       [0.03750342, 0.20202573]])"
      ]
     },
     "metadata": {},
     "output_type": "display_data"
    },
    {
     "data": {
      "image/png": "[encoded data removed]",
      "text/plain": [
       "<Figure size 432x288 with 2 Axes>"
      ]
     },
     "metadata": {
      "needs_background": "light"
     },
     "output_type": "display_data"
    }
   ],
   "source": [
    "y_train_pred = model.predict(X_train)\n",
    "print_scores(y_train, y_train_pred, 'Trainingset')"
   ]
  },
  {
   "cell_type": "code",
   "execution_count": 412,
   "id": "75fc91ec",
   "metadata": {},
   "outputs": [
    {
     "name": "stdout",
     "output_type": "stream",
     "text": [
      "====  Informed random guess  ====\n",
      "accuracy 0.6302681992337165\n",
      "precision 0.25984251968503935\n",
      "recall 0.25\n",
      "number of predictions  1566\n"
     ]
    },
    {
     "data": {
      "text/plain": [
       "array([[0.56704981, 0.18007663],\n",
       "       [0.18965517, 0.06321839]])"
      ]
     },
     "metadata": {},
     "output_type": "display_data"
    },
    {
     "data": {
      "image/png": "[encoded data removed]",
      "text/plain": [
       "<Figure size 432x288 with 2 Axes>"
      ]
     },
     "metadata": {
      "needs_background": "light"
     },
     "output_type": "display_data"
    }
   ],
   "source": [
    "print_scores(y_test, random_prediction, 'Informed random guess')"
   ]
  },
  {
   "cell_type": "code",
   "execution_count": 414,
   "id": "9ba7adab",
   "metadata": {},
   "outputs": [
    {
     "data": {
      "text/plain": [
       "-265"
      ]
     },
     "execution_count": 414,
     "metadata": {},
     "output_type": "execute_result"
    }
   ],
   "source": [
    "888 + 99 - (1075 + 177)"
   ]
  },
  {
   "cell_type": "code",
   "execution_count": 415,
   "id": "6aaf1967",
   "metadata": {},
   "outputs": [
    {
     "data": {
      "text/plain": [
       "<AxesSubplot:>"
      ]
     },
     "execution_count": 415,
     "metadata": {},
     "output_type": "execute_result"
    },
    {
     "data": {
      "image/png": "[encoded data removed]",
      "text/plain": [
       "<Figure size 864x576 with 1 Axes>"
      ]
     },
     "metadata": {
      "needs_background": "light"
     },
     "output_type": "display_data"
    }
   ],
   "source": [
    "importance = pd.Series(model.feature_importances_, index=vectorizer.get_feature_names_out())\n",
    "importance.sort_values(ascending=True).tail(30).plot.barh(figsize=(12,8))"
   ]
  },
  {
   "cell_type": "code",
   "execution_count": 314,
   "id": "98831f0d",
   "metadata": {},
   "outputs": [
    {
     "data": {
      "text/plain": [
       "<AxesSubplot:>"
      ]
     },
     "execution_count": 314,
     "metadata": {},
     "output_type": "execute_result"
    },
    {
     "data": {
      "image/png": "[encoded data removed]",
      "text/plain": [
       "<Figure size 576x576 with 1 Axes>"
      ]
     },
     "metadata": {
      "needs_background": "light"
     },
     "output_type": "display_data"
    }
   ],
   "source": [
    "feature_names = vectorizer.get_feature_names_out()\n",
    "top30features = importance.argsort()[-30:]\n",
    "important_df = pd.DataFrame(X[:,top30features].toarray(), columns=feature_names[top30features])\n",
    "important_df['engagement'] = y\n",
    "important_df.corr()['engagement'].drop('engagement').plot.barh(figsize=(8,8))"
   ]
  },
  {
   "cell_type": "code",
   "execution_count": null,
   "id": "c1aa07bb",
   "metadata": {},
   "outputs": [],
   "source": []
  }
 ],
 "metadata": {
  "kernelspec": {
   "display_name": "Python 3 (ipykernel)",
   "language": "python",
   "name": "python3"
  },
  "language_info": {
   "codemirror_mode": {
    "name": "ipython",
    "version": 3
   },
   "file_extension": ".py",
   "mimetype": "text/x-python",
   "name": "python",
   "nbconvert_exporter": "python",
   "pygments_lexer": "ipython3",
   "version": "3.9.7"
  }
 },
 "nbformat": 4,
 "nbformat_minor": 5
}
