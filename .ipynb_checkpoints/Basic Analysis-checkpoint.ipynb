{
 "cells": [
  {
   "cell_type": "markdown",
   "id": "9a29caa8",
   "metadata": {},
   "source": [
    "# Predicting twitter engagement on political documents based on the headline\n",
    "\n",
    "The following notebook gives some insights in the data and demonstrates the predictability of engagement with tweets based on the headlines of political documents. These are published by the twitter bot at https://twitter.com/hannoverpolitik. We will also investigate if there is particular topic of interest in the group of followers interacting with these tweets."
   ]
  },
  {
   "cell_type": "code",
   "execution_count": 3,
   "id": "6014895f",
   "metadata": {},
   "outputs": [],
   "source": [
    "# do the necessary imports\n",
    "import sqlite3\n",
    "import pandas as pd\n",
    "import seaborn as sns\n",
    "import matplotlib.pyplot as plt\n",
    "import re\n",
    "import numpy as np\n",
    "from sklearn.feature_extraction.text import CountVectorizer\n",
    "from sklearn.model_selection import train_test_split\n",
    "from sklearn.preprocessing import StandardScaler\n",
    "from sklearn.feature_extraction.text import TfidfTransformer\n",
    "from sklearn.naive_bayes import GaussianNB\n",
    "from sklearn.ensemble import RandomForestClassifier\n",
    "from sklearn.ensemble import AdaBoostClassifier\n",
    "from sklearn.tree import DecisionTreeClassifier\n",
    "from sklearn.tree import plot_tree\n",
    "from sklearn.metrics import accuracy_score, precision_score, recall_score, confusion_matrix, ConfusionMatrixDisplay\n",
    "\n",
    "%matplotlib inline"
   ]
  },
  {
   "cell_type": "markdown",
   "id": "47a5bcac",
   "metadata": {},
   "source": [
    "## Reading the data into a pandas dataframe\n",
    "The data is provided in the sqlite database of the bot an is split in two tables:\n",
    "* *drucksachen* contains the headlines (titel) of the documents, the publishing date (erscheinungstag), the type of the document (vorlangentyp)\n",
    "* *engagements* contains the readback of the engagement counters from the twitter API which was done at a particular point in time\n",
    "\n",
    "To combine engagement parameters with the tweets these tables need to be JOINed."
   ]
  },
  {
   "cell_type": "code",
   "execution_count": 4,
   "id": "27d30d94",
   "metadata": {},
   "outputs": [],
   "source": [
    "con = sqlite3.connect(\"./drucksachen.db\")\n",
    "df = pd.read_sql_query(\"select d.erscheinungstag, d.vorlangentyp, d.titel, \"\n",
    "                       \"e.retweet_count, e.reply_count, e.like_count, e.quote_count \"\n",
    "                       \"FROM drucksachen d \"\n",
    "                       \"JOIN engagements e ON d.tweetid = e.tweetid\", con)"
   ]
  },
  {
   "cell_type": "code",
   "execution_count": 5,
   "id": "eb4f1ebf",
   "metadata": {},
   "outputs": [
    {
     "data": {
      "text/html": [
       "<div>\n",
       "<style scoped>\n",
       "    .dataframe tbody tr th:only-of-type {\n",
       "        vertical-align: middle;\n",
       "    }\n",
       "\n",
       "    .dataframe tbody tr th {\n",
       "        vertical-align: top;\n",
       "    }\n",
       "\n",
       "    .dataframe thead th {\n",
       "        text-align: right;\n",
       "    }\n",
       "</style>\n",
       "<table border=\"1\" class=\"dataframe\">\n",
       "  <thead>\n",
       "    <tr style=\"text-align: right;\">\n",
       "      <th></th>\n",
       "      <th>erscheinungstag</th>\n",
       "      <th>vorlangentyp</th>\n",
       "      <th>titel</th>\n",
       "      <th>retweet_count</th>\n",
       "      <th>reply_count</th>\n",
       "      <th>like_count</th>\n",
       "      <th>quote_count</th>\n",
       "    </tr>\n",
       "  </thead>\n",
       "  <tbody>\n",
       "    <tr>\n",
       "      <th>0</th>\n",
       "      <td>22.12.2020</td>\n",
       "      <td>Antwort</td>\n",
       "      <td>Antwort der Verwaltung auf die\\r\\nAnfrage Ausb...</td>\n",
       "      <td>1</td>\n",
       "      <td>0</td>\n",
       "      <td>0</td>\n",
       "      <td>0</td>\n",
       "    </tr>\n",
       "    <tr>\n",
       "      <th>1</th>\n",
       "      <td>22.12.2020</td>\n",
       "      <td>Antwort</td>\n",
       "      <td>Antwort der Verwaltung auf die\\r\\nAnfrage Unte...</td>\n",
       "      <td>0</td>\n",
       "      <td>0</td>\n",
       "      <td>0</td>\n",
       "      <td>0</td>\n",
       "    </tr>\n",
       "    <tr>\n",
       "      <th>2</th>\n",
       "      <td>22.12.2020</td>\n",
       "      <td>Antwort</td>\n",
       "      <td>Antwort der Verwaltung auf die\\r\\nAnfrage Stär...</td>\n",
       "      <td>0</td>\n",
       "      <td>0</td>\n",
       "      <td>0</td>\n",
       "      <td>0</td>\n",
       "    </tr>\n",
       "    <tr>\n",
       "      <th>3</th>\n",
       "      <td>22.12.2020</td>\n",
       "      <td>Antwort</td>\n",
       "      <td>Antwort der Verwaltung auf die\\r\\nAnfrage GS T...</td>\n",
       "      <td>0</td>\n",
       "      <td>0</td>\n",
       "      <td>0</td>\n",
       "      <td>0</td>\n",
       "    </tr>\n",
       "    <tr>\n",
       "      <th>4</th>\n",
       "      <td>22.12.2020</td>\n",
       "      <td>Antwort</td>\n",
       "      <td>Antwort der Verwaltung auf die\\r\\nAnfrage der ...</td>\n",
       "      <td>0</td>\n",
       "      <td>0</td>\n",
       "      <td>0</td>\n",
       "      <td>0</td>\n",
       "    </tr>\n",
       "  </tbody>\n",
       "</table>\n",
       "</div>"
      ],
      "text/plain": [
       "  erscheinungstag vorlangentyp  \\\n",
       "0      22.12.2020      Antwort   \n",
       "1      22.12.2020      Antwort   \n",
       "2      22.12.2020      Antwort   \n",
       "3      22.12.2020      Antwort   \n",
       "4      22.12.2020      Antwort   \n",
       "\n",
       "                                               titel  retweet_count  \\\n",
       "0  Antwort der Verwaltung auf die\\r\\nAnfrage Ausb...              1   \n",
       "1  Antwort der Verwaltung auf die\\r\\nAnfrage Unte...              0   \n",
       "2  Antwort der Verwaltung auf die\\r\\nAnfrage Stär...              0   \n",
       "3  Antwort der Verwaltung auf die\\r\\nAnfrage GS T...              0   \n",
       "4  Antwort der Verwaltung auf die\\r\\nAnfrage der ...              0   \n",
       "\n",
       "   reply_count  like_count  quote_count  \n",
       "0            0           0            0  \n",
       "1            0           0            0  \n",
       "2            0           0            0  \n",
       "3            0           0            0  \n",
       "4            0           0            0  "
      ]
     },
     "execution_count": 5,
     "metadata": {},
     "output_type": "execute_result"
    }
   ],
   "source": [
    "# let's have some quick looks into the data\n",
    "df.head()"
   ]
  },
  {
   "cell_type": "code",
   "execution_count": 6,
   "id": "aeaf82f1",
   "metadata": {
    "scrolled": true
   },
   "outputs": [
    {
     "data": {
      "text/html": [
       "<div>\n",
       "<style scoped>\n",
       "    .dataframe tbody tr th:only-of-type {\n",
       "        vertical-align: middle;\n",
       "    }\n",
       "\n",
       "    .dataframe tbody tr th {\n",
       "        vertical-align: top;\n",
       "    }\n",
       "\n",
       "    .dataframe thead th {\n",
       "        text-align: right;\n",
       "    }\n",
       "</style>\n",
       "<table border=\"1\" class=\"dataframe\">\n",
       "  <thead>\n",
       "    <tr style=\"text-align: right;\">\n",
       "      <th></th>\n",
       "      <th>retweet_count</th>\n",
       "      <th>reply_count</th>\n",
       "      <th>like_count</th>\n",
       "      <th>quote_count</th>\n",
       "    </tr>\n",
       "  </thead>\n",
       "  <tbody>\n",
       "    <tr>\n",
       "      <th>count</th>\n",
       "      <td>5219.000000</td>\n",
       "      <td>5219.000000</td>\n",
       "      <td>5219.000000</td>\n",
       "      <td>5219.000000</td>\n",
       "    </tr>\n",
       "    <tr>\n",
       "      <th>mean</th>\n",
       "      <td>0.093121</td>\n",
       "      <td>0.011113</td>\n",
       "      <td>0.100594</td>\n",
       "      <td>0.116497</td>\n",
       "    </tr>\n",
       "    <tr>\n",
       "      <th>std</th>\n",
       "      <td>0.315300</td>\n",
       "      <td>0.135183</td>\n",
       "      <td>0.443899</td>\n",
       "      <td>0.332006</td>\n",
       "    </tr>\n",
       "    <tr>\n",
       "      <th>min</th>\n",
       "      <td>0.000000</td>\n",
       "      <td>0.000000</td>\n",
       "      <td>0.000000</td>\n",
       "      <td>0.000000</td>\n",
       "    </tr>\n",
       "    <tr>\n",
       "      <th>25%</th>\n",
       "      <td>0.000000</td>\n",
       "      <td>0.000000</td>\n",
       "      <td>0.000000</td>\n",
       "      <td>0.000000</td>\n",
       "    </tr>\n",
       "    <tr>\n",
       "      <th>50%</th>\n",
       "      <td>0.000000</td>\n",
       "      <td>0.000000</td>\n",
       "      <td>0.000000</td>\n",
       "      <td>0.000000</td>\n",
       "    </tr>\n",
       "    <tr>\n",
       "      <th>75%</th>\n",
       "      <td>0.000000</td>\n",
       "      <td>0.000000</td>\n",
       "      <td>0.000000</td>\n",
       "      <td>0.000000</td>\n",
       "    </tr>\n",
       "    <tr>\n",
       "      <th>max</th>\n",
       "      <td>5.000000</td>\n",
       "      <td>4.000000</td>\n",
       "      <td>13.000000</td>\n",
       "      <td>2.000000</td>\n",
       "    </tr>\n",
       "  </tbody>\n",
       "</table>\n",
       "</div>"
      ],
      "text/plain": [
       "       retweet_count  reply_count   like_count  quote_count\n",
       "count    5219.000000  5219.000000  5219.000000  5219.000000\n",
       "mean        0.093121     0.011113     0.100594     0.116497\n",
       "std         0.315300     0.135183     0.443899     0.332006\n",
       "min         0.000000     0.000000     0.000000     0.000000\n",
       "25%         0.000000     0.000000     0.000000     0.000000\n",
       "50%         0.000000     0.000000     0.000000     0.000000\n",
       "75%         0.000000     0.000000     0.000000     0.000000\n",
       "max         5.000000     4.000000    13.000000     2.000000"
      ]
     },
     "execution_count": 6,
     "metadata": {},
     "output_type": "execute_result"
    }
   ],
   "source": [
    "df.describe()"
   ]
  },
  {
   "cell_type": "code",
   "execution_count": 5,
   "id": "40f1ebbb",
   "metadata": {},
   "outputs": [],
   "source": [
    "# converting the german date from string to pandas' datetime type\n",
    "df['erscheinungstag_dt'] = pd.to_datetime(df['erscheinungstag'], dayfirst=True)"
   ]
  },
  {
   "cell_type": "code",
   "execution_count": 6,
   "id": "67ed9983",
   "metadata": {},
   "outputs": [
    {
     "data": {
      "text/plain": [
       "(Timestamp('2020-12-22 00:00:00'), Timestamp('2022-02-09 00:00:00'))"
      ]
     },
     "execution_count": 6,
     "metadata": {},
     "output_type": "execute_result"
    }
   ],
   "source": [
    "# the covered timespan\n",
    "df['erscheinungstag_dt'].min(), df['erscheinungstag_dt'].max()"
   ]
  },
  {
   "cell_type": "markdown",
   "id": "805cb75e",
   "metadata": {},
   "source": [
    "## How is the activity distributed over the year?\n",
    "The following plot shows the number of tweets grouped by calendar week."
   ]
  },
  {
   "cell_type": "code",
   "execution_count": 7,
   "id": "44a0fc42",
   "metadata": {},
   "outputs": [
    {
     "data": {
      "image/png": "[encoded data removed]",
      "text/plain": [
       "<Figure size 1008x576 with 1 Axes>"
      ]
     },
     "metadata": {
      "needs_background": "light"
     },
     "output_type": "display_data"
    }
   ],
   "source": [
    "df.groupby([pd.Grouper(key='erscheinungstag_dt', freq='W-MON')]).count()['titel'].plot(figsize=(14,8));"
   ]
  },
  {
   "cell_type": "markdown",
   "id": "81efc561",
   "metadata": {},
   "source": [
    "# How to measure engagement\n",
    "Does it make sense to predict the level of engagement by regression or shall we use a classification: engagement or not. Let's calculate the total number of engagemets and plot an overview of engagements in the dataset."
   ]
  },
  {
   "cell_type": "code",
   "execution_count": 9,
   "id": "62a706fd",
   "metadata": {},
   "outputs": [
    {
     "data": {
      "image/png": "[encoded data removed]",
      "text/plain": [
       "<Figure size 432x288 with 1 Axes>"
      ]
     },
     "metadata": {
      "needs_background": "light"
     },
     "output_type": "display_data"
    }
   ],
   "source": [
    "# calculate the total number of engagements\n",
    "df['engagement'] = df['retweet_count'] + df['reply_count'] + df['like_count'] + df['quote_count']\n",
    "# plot overview\n",
    "numerics = ['retweet_count', 'reply_count', 'like_count', 'quote_count', 'engagement']\n",
    "(df[numerics][df[numerics] > 0].count() / len(df) * 100).plot.bar(ylabel='% of tweets', title='overall engagement');"
   ]
  },
  {
   "cell_type": "markdown",
   "id": "94a614a1",
   "metadata": {},
   "source": [
    "Do the different types of engagement correlate?"
   ]
  },
  {
   "cell_type": "code",
   "execution_count": 10,
   "id": "73749a75",
   "metadata": {
    "scrolled": true
   },
   "outputs": [
    {
     "data": {
      "text/html": [
       "<div>\n",
       "<style scoped>\n",
       "    .dataframe tbody tr th:only-of-type {\n",
       "        vertical-align: middle;\n",
       "    }\n",
       "\n",
       "    .dataframe tbody tr th {\n",
       "        vertical-align: top;\n",
       "    }\n",
       "\n",
       "    .dataframe thead th {\n",
       "        text-align: right;\n",
       "    }\n",
       "</style>\n",
       "<table border=\"1\" class=\"dataframe\">\n",
       "  <thead>\n",
       "    <tr style=\"text-align: right;\">\n",
       "      <th></th>\n",
       "      <th>retweet_count</th>\n",
       "      <th>reply_count</th>\n",
       "      <th>like_count</th>\n",
       "      <th>quote_count</th>\n",
       "    </tr>\n",
       "  </thead>\n",
       "  <tbody>\n",
       "    <tr>\n",
       "      <th>retweet_count</th>\n",
       "      <td>1.000000</td>\n",
       "      <td>0.182543</td>\n",
       "      <td>0.312345</td>\n",
       "      <td>-0.026761</td>\n",
       "    </tr>\n",
       "    <tr>\n",
       "      <th>reply_count</th>\n",
       "      <td>0.182543</td>\n",
       "      <td>1.000000</td>\n",
       "      <td>0.243248</td>\n",
       "      <td>0.069358</td>\n",
       "    </tr>\n",
       "    <tr>\n",
       "      <th>like_count</th>\n",
       "      <td>0.312345</td>\n",
       "      <td>0.243248</td>\n",
       "      <td>1.000000</td>\n",
       "      <td>0.148032</td>\n",
       "    </tr>\n",
       "    <tr>\n",
       "      <th>quote_count</th>\n",
       "      <td>-0.026761</td>\n",
       "      <td>0.069358</td>\n",
       "      <td>0.148032</td>\n",
       "      <td>1.000000</td>\n",
       "    </tr>\n",
       "  </tbody>\n",
       "</table>\n",
       "</div>"
      ],
      "text/plain": [
       "               retweet_count  reply_count  like_count  quote_count\n",
       "retweet_count       1.000000     0.182543    0.312345    -0.026761\n",
       "reply_count         0.182543     1.000000    0.243248     0.069358\n",
       "like_count          0.312345     0.243248    1.000000     0.148032\n",
       "quote_count        -0.026761     0.069358    0.148032     1.000000"
      ]
     },
     "execution_count": 10,
     "metadata": {},
     "output_type": "execute_result"
    }
   ],
   "source": [
    "df[['retweet_count', 'reply_count', 'like_count', 'quote_count']].corr()"
   ]
  },
  {
   "cell_type": "markdown",
   "id": "1ee75202",
   "metadata": {},
   "source": [
    "At least for the likes we see some correlation with the other interactions. But we can't say that one engagement represents them all. Let's look into the number of retweets over time as an example."
   ]
  },
  {
   "cell_type": "code",
   "execution_count": 11,
   "id": "a8919802",
   "metadata": {
    "scrolled": true
   },
   "outputs": [
    {
     "data": {
      "image/png": "[encoded data removed]",
      "text/plain": [
       "<Figure size 1296x720 with 1 Axes>"
      ]
     },
     "metadata": {
      "needs_background": "light"
     },
     "output_type": "display_data"
    }
   ],
   "source": [
    "fig, ax1 = plt.subplots(figsize=(18, 10))\n",
    "sns.barplot(data=df, x=df.index, y=\"retweet_count\", ax=ax1)\n",
    "sns.despine(fig)"
   ]
  },
  {
   "cell_type": "markdown",
   "id": "d2502d8f",
   "metadata": {},
   "source": [
    "There is not enough data for the higher number of retweets to allow a regression based on retweets. Next idea is to simply calculate the total of engagements and plot it over time. Let's look into the total engagements over time:"
   ]
  },
  {
   "cell_type": "code",
   "execution_count": 13,
   "id": "2162f46f",
   "metadata": {},
   "outputs": [
    {
     "data": {
      "image/png": "[encoded data removed]",
      "text/plain": [
       "<Figure size 1296x720 with 1 Axes>"
      ]
     },
     "metadata": {
      "needs_background": "light"
     },
     "output_type": "display_data"
    }
   ],
   "source": [
    "fig, ax1 = plt.subplots(figsize=(18, 10))\n",
    "sns.barplot(data=df, x=df.index, y=\"engagement\", ax=ax1)\n",
    "sns.despine(fig)"
   ]
  },
  {
   "cell_type": "markdown",
   "id": "42ea754d",
   "metadata": {},
   "source": [
    "Also in this plot we get the impression that most tweets have only one engagement some have two, the others could be considered outliers. Hence there is not enough data for a regression. This is also confirmed by a cumulative distribution of the engagements of the tweets as follows:"
   ]
  },
  {
   "cell_type": "code",
   "execution_count": 14,
   "id": "9080f0a0",
   "metadata": {},
   "outputs": [
    {
     "data": {
      "image/png": "[encoded data removed]",
      "text/plain": [
       "<Figure size 432x288 with 1 Axes>"
      ]
     },
     "metadata": {
      "needs_background": "light"
     },
     "output_type": "display_data"
    }
   ],
   "source": [
    "sns.ecdfplot(df['engagement'][df['engagement'] > 0], stat=\"count\");"
   ]
  },
  {
   "cell_type": "markdown",
   "id": "9f03c02c",
   "metadata": {},
   "source": [
    "## Does the type of the document correlate with the engagement\n",
    "Let's create some insights first"
   ]
  },
  {
   "cell_type": "code",
   "execution_count": 15,
   "id": "3a8d9433",
   "metadata": {},
   "outputs": [
    {
     "data": {
      "text/plain": [
       "array(['Antwort', 'Neufassung', 'Beschlussdrucksache',\n",
       "       'Informationsdrucksache', 'Anfrage', 'Entscheidung', 'Antrag',\n",
       "       'Ergänzung', 'Haushaltsantrag', 'Stellungnahme'], dtype=object)"
      ]
     },
     "execution_count": 15,
     "metadata": {},
     "output_type": "execute_result"
    }
   ],
   "source": [
    "# which document types exist?\n",
    "df['vorlangentyp'].unique()"
   ]
  },
  {
   "cell_type": "code",
   "execution_count": 16,
   "id": "ded5fd06",
   "metadata": {},
   "outputs": [
    {
     "data": {
      "image/png": "[encoded data removed]",
      "text/plain": [
       "<Figure size 432x288 with 1 Axes>"
      ]
     },
     "metadata": {
      "needs_background": "light"
     },
     "output_type": "display_data"
    }
   ],
   "source": [
    "# how many of each type do we have in the dataset?\n",
    "df['vorlangentyp'].value_counts(ascending=True).plot.barh();"
   ]
  },
  {
   "cell_type": "code",
   "execution_count": 17,
   "id": "0758d7f0",
   "metadata": {},
   "outputs": [
    {
     "data": {
      "text/html": [
       "<div>\n",
       "<style scoped>\n",
       "    .dataframe tbody tr th:only-of-type {\n",
       "        vertical-align: middle;\n",
       "    }\n",
       "\n",
       "    .dataframe tbody tr th {\n",
       "        vertical-align: top;\n",
       "    }\n",
       "\n",
       "    .dataframe thead th {\n",
       "        text-align: right;\n",
       "    }\n",
       "</style>\n",
       "<table border=\"1\" class=\"dataframe\">\n",
       "  <thead>\n",
       "    <tr style=\"text-align: right;\">\n",
       "      <th></th>\n",
       "      <th>retweet_count</th>\n",
       "      <th>reply_count</th>\n",
       "      <th>like_count</th>\n",
       "      <th>quote_count</th>\n",
       "      <th>engagement</th>\n",
       "    </tr>\n",
       "    <tr>\n",
       "      <th>vorlangentyp</th>\n",
       "      <th></th>\n",
       "      <th></th>\n",
       "      <th></th>\n",
       "      <th></th>\n",
       "      <th></th>\n",
       "    </tr>\n",
       "  </thead>\n",
       "  <tbody>\n",
       "    <tr>\n",
       "      <th>Anfrage</th>\n",
       "      <td>0.135613</td>\n",
       "      <td>0.017689</td>\n",
       "      <td>0.146226</td>\n",
       "      <td>0.113208</td>\n",
       "      <td>0.412736</td>\n",
       "    </tr>\n",
       "    <tr>\n",
       "      <th>Antrag</th>\n",
       "      <td>0.124247</td>\n",
       "      <td>0.016566</td>\n",
       "      <td>0.118223</td>\n",
       "      <td>0.167922</td>\n",
       "      <td>0.426958</td>\n",
       "    </tr>\n",
       "    <tr>\n",
       "      <th>Antwort</th>\n",
       "      <td>0.072682</td>\n",
       "      <td>0.015038</td>\n",
       "      <td>0.098997</td>\n",
       "      <td>0.112782</td>\n",
       "      <td>0.299499</td>\n",
       "    </tr>\n",
       "    <tr>\n",
       "      <th>Beschlussdrucksache</th>\n",
       "      <td>0.030651</td>\n",
       "      <td>0.001916</td>\n",
       "      <td>0.040230</td>\n",
       "      <td>0.045977</td>\n",
       "      <td>0.118774</td>\n",
       "    </tr>\n",
       "    <tr>\n",
       "      <th>Entscheidung</th>\n",
       "      <td>0.148415</td>\n",
       "      <td>0.010086</td>\n",
       "      <td>0.155620</td>\n",
       "      <td>0.182997</td>\n",
       "      <td>0.497118</td>\n",
       "    </tr>\n",
       "    <tr>\n",
       "      <th>Ergänzung</th>\n",
       "      <td>0.357143</td>\n",
       "      <td>0.071429</td>\n",
       "      <td>0.357143</td>\n",
       "      <td>0.142857</td>\n",
       "      <td>0.928571</td>\n",
       "    </tr>\n",
       "    <tr>\n",
       "      <th>Haushaltsantrag</th>\n",
       "      <td>0.002972</td>\n",
       "      <td>0.000000</td>\n",
       "      <td>0.013373</td>\n",
       "      <td>0.017831</td>\n",
       "      <td>0.034175</td>\n",
       "    </tr>\n",
       "    <tr>\n",
       "      <th>Informationsdrucksache</th>\n",
       "      <td>0.034884</td>\n",
       "      <td>0.000000</td>\n",
       "      <td>0.040698</td>\n",
       "      <td>0.075581</td>\n",
       "      <td>0.151163</td>\n",
       "    </tr>\n",
       "    <tr>\n",
       "      <th>Neufassung</th>\n",
       "      <td>0.081250</td>\n",
       "      <td>0.000000</td>\n",
       "      <td>0.093750</td>\n",
       "      <td>0.131250</td>\n",
       "      <td>0.306250</td>\n",
       "    </tr>\n",
       "    <tr>\n",
       "      <th>Stellungnahme</th>\n",
       "      <td>0.300000</td>\n",
       "      <td>0.000000</td>\n",
       "      <td>0.000000</td>\n",
       "      <td>0.000000</td>\n",
       "      <td>0.300000</td>\n",
       "    </tr>\n",
       "  </tbody>\n",
       "</table>\n",
       "</div>"
      ],
      "text/plain": [
       "                        retweet_count  reply_count  like_count  quote_count  \\\n",
       "vorlangentyp                                                                  \n",
       "Anfrage                      0.135613     0.017689    0.146226     0.113208   \n",
       "Antrag                       0.124247     0.016566    0.118223     0.167922   \n",
       "Antwort                      0.072682     0.015038    0.098997     0.112782   \n",
       "Beschlussdrucksache          0.030651     0.001916    0.040230     0.045977   \n",
       "Entscheidung                 0.148415     0.010086    0.155620     0.182997   \n",
       "Ergänzung                    0.357143     0.071429    0.357143     0.142857   \n",
       "Haushaltsantrag              0.002972     0.000000    0.013373     0.017831   \n",
       "Informationsdrucksache       0.034884     0.000000    0.040698     0.075581   \n",
       "Neufassung                   0.081250     0.000000    0.093750     0.131250   \n",
       "Stellungnahme                0.300000     0.000000    0.000000     0.000000   \n",
       "\n",
       "                        engagement  \n",
       "vorlangentyp                        \n",
       "Anfrage                   0.412736  \n",
       "Antrag                    0.426958  \n",
       "Antwort                   0.299499  \n",
       "Beschlussdrucksache       0.118774  \n",
       "Entscheidung              0.497118  \n",
       "Ergänzung                 0.928571  \n",
       "Haushaltsantrag           0.034175  \n",
       "Informationsdrucksache    0.151163  \n",
       "Neufassung                0.306250  \n",
       "Stellungnahme             0.300000  "
      ]
     },
     "execution_count": 17,
     "metadata": {},
     "output_type": "execute_result"
    }
   ],
   "source": [
    "# what is the relative activity by type of document?\n",
    "df[['vorlangentyp'] + numerics].groupby('vorlangentyp').mean()"
   ]
  },
  {
   "cell_type": "markdown",
   "id": "0f1b6d09",
   "metadata": {},
   "source": [
    "Seems there is particularly high activity on the amendmend (Ergänzung) but that is an artefact as there are only 14 amendmends in the dataset:"
   ]
  },
  {
   "cell_type": "code",
   "execution_count": 18,
   "id": "ba2899ad",
   "metadata": {},
   "outputs": [
    {
     "data": {
      "text/html": [
       "<div>\n",
       "<style scoped>\n",
       "    .dataframe tbody tr th:only-of-type {\n",
       "        vertical-align: middle;\n",
       "    }\n",
       "\n",
       "    .dataframe tbody tr th {\n",
       "        vertical-align: top;\n",
       "    }\n",
       "\n",
       "    .dataframe thead th {\n",
       "        text-align: right;\n",
       "    }\n",
       "</style>\n",
       "<table border=\"1\" class=\"dataframe\">\n",
       "  <thead>\n",
       "    <tr style=\"text-align: right;\">\n",
       "      <th></th>\n",
       "      <th>retweet_count</th>\n",
       "      <th>reply_count</th>\n",
       "      <th>like_count</th>\n",
       "      <th>quote_count</th>\n",
       "      <th>engagement</th>\n",
       "    </tr>\n",
       "    <tr>\n",
       "      <th>vorlangentyp</th>\n",
       "      <th></th>\n",
       "      <th></th>\n",
       "      <th></th>\n",
       "      <th></th>\n",
       "      <th></th>\n",
       "    </tr>\n",
       "  </thead>\n",
       "  <tbody>\n",
       "    <tr>\n",
       "      <th>Anfrage</th>\n",
       "      <td>848</td>\n",
       "      <td>848</td>\n",
       "      <td>848</td>\n",
       "      <td>848</td>\n",
       "      <td>848</td>\n",
       "    </tr>\n",
       "    <tr>\n",
       "      <th>Antrag</th>\n",
       "      <td>1328</td>\n",
       "      <td>1328</td>\n",
       "      <td>1328</td>\n",
       "      <td>1328</td>\n",
       "      <td>1328</td>\n",
       "    </tr>\n",
       "    <tr>\n",
       "      <th>Antwort</th>\n",
       "      <td>798</td>\n",
       "      <td>798</td>\n",
       "      <td>798</td>\n",
       "      <td>798</td>\n",
       "      <td>798</td>\n",
       "    </tr>\n",
       "    <tr>\n",
       "      <th>Beschlussdrucksache</th>\n",
       "      <td>522</td>\n",
       "      <td>522</td>\n",
       "      <td>522</td>\n",
       "      <td>522</td>\n",
       "      <td>522</td>\n",
       "    </tr>\n",
       "    <tr>\n",
       "      <th>Entscheidung</th>\n",
       "      <td>694</td>\n",
       "      <td>694</td>\n",
       "      <td>694</td>\n",
       "      <td>694</td>\n",
       "      <td>694</td>\n",
       "    </tr>\n",
       "    <tr>\n",
       "      <th>Ergänzung</th>\n",
       "      <td>14</td>\n",
       "      <td>14</td>\n",
       "      <td>14</td>\n",
       "      <td>14</td>\n",
       "      <td>14</td>\n",
       "    </tr>\n",
       "    <tr>\n",
       "      <th>Haushaltsantrag</th>\n",
       "      <td>673</td>\n",
       "      <td>673</td>\n",
       "      <td>673</td>\n",
       "      <td>673</td>\n",
       "      <td>673</td>\n",
       "    </tr>\n",
       "    <tr>\n",
       "      <th>Informationsdrucksache</th>\n",
       "      <td>172</td>\n",
       "      <td>172</td>\n",
       "      <td>172</td>\n",
       "      <td>172</td>\n",
       "      <td>172</td>\n",
       "    </tr>\n",
       "    <tr>\n",
       "      <th>Neufassung</th>\n",
       "      <td>160</td>\n",
       "      <td>160</td>\n",
       "      <td>160</td>\n",
       "      <td>160</td>\n",
       "      <td>160</td>\n",
       "    </tr>\n",
       "    <tr>\n",
       "      <th>Stellungnahme</th>\n",
       "      <td>10</td>\n",
       "      <td>10</td>\n",
       "      <td>10</td>\n",
       "      <td>10</td>\n",
       "      <td>10</td>\n",
       "    </tr>\n",
       "  </tbody>\n",
       "</table>\n",
       "</div>"
      ],
      "text/plain": [
       "                        retweet_count  reply_count  like_count  quote_count  \\\n",
       "vorlangentyp                                                                  \n",
       "Anfrage                           848          848         848          848   \n",
       "Antrag                           1328         1328        1328         1328   \n",
       "Antwort                           798          798         798          798   \n",
       "Beschlussdrucksache               522          522         522          522   \n",
       "Entscheidung                      694          694         694          694   \n",
       "Ergänzung                          14           14          14           14   \n",
       "Haushaltsantrag                   673          673         673          673   \n",
       "Informationsdrucksache            172          172         172          172   \n",
       "Neufassung                        160          160         160          160   \n",
       "Stellungnahme                      10           10          10           10   \n",
       "\n",
       "                        engagement  \n",
       "vorlangentyp                        \n",
       "Anfrage                        848  \n",
       "Antrag                        1328  \n",
       "Antwort                        798  \n",
       "Beschlussdrucksache            522  \n",
       "Entscheidung                   694  \n",
       "Ergänzung                       14  \n",
       "Haushaltsantrag                673  \n",
       "Informationsdrucksache         172  \n",
       "Neufassung                     160  \n",
       "Stellungnahme                   10  "
      ]
     },
     "execution_count": 18,
     "metadata": {},
     "output_type": "execute_result"
    }
   ],
   "source": [
    "df[['vorlangentyp'] + numerics].groupby('vorlangentyp').count()"
   ]
  },
  {
   "cell_type": "code",
   "execution_count": 19,
   "id": "61e3a04f",
   "metadata": {},
   "outputs": [
    {
     "data": {
      "text/html": [
       "<div>\n",
       "<style scoped>\n",
       "    .dataframe tbody tr th:only-of-type {\n",
       "        vertical-align: middle;\n",
       "    }\n",
       "\n",
       "    .dataframe tbody tr th {\n",
       "        vertical-align: top;\n",
       "    }\n",
       "\n",
       "    .dataframe thead th {\n",
       "        text-align: right;\n",
       "    }\n",
       "</style>\n",
       "<table border=\"1\" class=\"dataframe\">\n",
       "  <thead>\n",
       "    <tr style=\"text-align: right;\">\n",
       "      <th></th>\n",
       "      <th>erscheinungstag</th>\n",
       "      <th>vorlangentyp</th>\n",
       "      <th>titel</th>\n",
       "      <th>retweet_count</th>\n",
       "      <th>reply_count</th>\n",
       "      <th>like_count</th>\n",
       "      <th>quote_count</th>\n",
       "      <th>erscheinungstag_dt</th>\n",
       "      <th>engagement</th>\n",
       "    </tr>\n",
       "  </thead>\n",
       "  <tbody>\n",
       "    <tr>\n",
       "      <th>63</th>\n",
       "      <td>13.01.2021</td>\n",
       "      <td>Ergänzung</td>\n",
       "      <td>Ausbau der Lutherstraße zwischen Sallstraße un...</td>\n",
       "      <td>1</td>\n",
       "      <td>0</td>\n",
       "      <td>0</td>\n",
       "      <td>0</td>\n",
       "      <td>2021-01-13</td>\n",
       "      <td>1</td>\n",
       "    </tr>\n",
       "    <tr>\n",
       "      <th>125</th>\n",
       "      <td>19.01.2021</td>\n",
       "      <td>Ergänzung</td>\n",
       "      <td>Programmdrucksache zu den Infrastrukturmaßnahm...</td>\n",
       "      <td>0</td>\n",
       "      <td>0</td>\n",
       "      <td>0</td>\n",
       "      <td>0</td>\n",
       "      <td>2021-01-19</td>\n",
       "      <td>0</td>\n",
       "    </tr>\n",
       "    <tr>\n",
       "      <th>1221</th>\n",
       "      <td>10.03.2021</td>\n",
       "      <td>Ergänzung</td>\n",
       "      <td>1. Ergänzung zum Verwaltungsentwurf des Hausha...</td>\n",
       "      <td>0</td>\n",
       "      <td>0</td>\n",
       "      <td>0</td>\n",
       "      <td>0</td>\n",
       "      <td>2021-03-10</td>\n",
       "      <td>0</td>\n",
       "    </tr>\n",
       "    <tr>\n",
       "      <th>1436</th>\n",
       "      <td>16.03.2021</td>\n",
       "      <td>Ergänzung</td>\n",
       "      <td>2. Ergänzung zum Verwaltungsentwurf des Hausha...</td>\n",
       "      <td>0</td>\n",
       "      <td>0</td>\n",
       "      <td>0</td>\n",
       "      <td>0</td>\n",
       "      <td>2021-03-16</td>\n",
       "      <td>0</td>\n",
       "    </tr>\n",
       "    <tr>\n",
       "      <th>1702</th>\n",
       "      <td>30.03.2021</td>\n",
       "      <td>Ergänzung</td>\n",
       "      <td>\\r\\n1. Ergänzung zur Drucksache Nr. 0629/2021 ...</td>\n",
       "      <td>0</td>\n",
       "      <td>0</td>\n",
       "      <td>0</td>\n",
       "      <td>0</td>\n",
       "      <td>2021-03-30</td>\n",
       "      <td>0</td>\n",
       "    </tr>\n",
       "    <tr>\n",
       "      <th>2009</th>\n",
       "      <td>28.04.2021</td>\n",
       "      <td>Ergänzung</td>\n",
       "      <td>Änderungsanträge des Stadtbezirksrates Linden-...</td>\n",
       "      <td>0</td>\n",
       "      <td>0</td>\n",
       "      <td>0</td>\n",
       "      <td>0</td>\n",
       "      <td>2021-04-28</td>\n",
       "      <td>0</td>\n",
       "    </tr>\n",
       "    <tr>\n",
       "      <th>2060</th>\n",
       "      <td>30.04.2021</td>\n",
       "      <td>Ergänzung</td>\n",
       "      <td>Bushaltestelle „Kröpcke“ und Fahrbahnerneuerun...</td>\n",
       "      <td>0</td>\n",
       "      <td>0</td>\n",
       "      <td>0</td>\n",
       "      <td>0</td>\n",
       "      <td>2021-04-30</td>\n",
       "      <td>0</td>\n",
       "    </tr>\n",
       "    <tr>\n",
       "      <th>2377</th>\n",
       "      <td>26.05.2021</td>\n",
       "      <td>Ergänzung</td>\n",
       "      <td>Ausbau der Veloroute 08 aus der Innenstadt Han...</td>\n",
       "      <td>0</td>\n",
       "      <td>0</td>\n",
       "      <td>0</td>\n",
       "      <td>1</td>\n",
       "      <td>2021-05-26</td>\n",
       "      <td>1</td>\n",
       "    </tr>\n",
       "    <tr>\n",
       "      <th>2623</th>\n",
       "      <td>10.06.2021</td>\n",
       "      <td>Ergänzung</td>\n",
       "      <td>Antwort der Verwaltung auf die\\r\\nAnfrage Aufp...</td>\n",
       "      <td>1</td>\n",
       "      <td>0</td>\n",
       "      <td>0</td>\n",
       "      <td>0</td>\n",
       "      <td>2021-06-10</td>\n",
       "      <td>1</td>\n",
       "    </tr>\n",
       "    <tr>\n",
       "      <th>2723</th>\n",
       "      <td>18.06.2021</td>\n",
       "      <td>Ergänzung</td>\n",
       "      <td>Bebauungsplan der Innenentwicklung Nr. 473, 2....</td>\n",
       "      <td>0</td>\n",
       "      <td>0</td>\n",
       "      <td>0</td>\n",
       "      <td>0</td>\n",
       "      <td>2021-06-18</td>\n",
       "      <td>0</td>\n",
       "    </tr>\n",
       "    <tr>\n",
       "      <th>2749</th>\n",
       "      <td>22.06.2021</td>\n",
       "      <td>Ergänzung</td>\n",
       "      <td>Vorzeitige Teil-Inbetriebnahme der Stadtbahnve...</td>\n",
       "      <td>0</td>\n",
       "      <td>0</td>\n",
       "      <td>0</td>\n",
       "      <td>0</td>\n",
       "      <td>2021-06-22</td>\n",
       "      <td>0</td>\n",
       "    </tr>\n",
       "    <tr>\n",
       "      <th>3717</th>\n",
       "      <td>22.09.2021</td>\n",
       "      <td>Ergänzung</td>\n",
       "      <td>Konzept zur Aufwertung Pastor-Jaeckel-Weg / Ha...</td>\n",
       "      <td>1</td>\n",
       "      <td>0</td>\n",
       "      <td>0</td>\n",
       "      <td>0</td>\n",
       "      <td>2021-09-22</td>\n",
       "      <td>1</td>\n",
       "    </tr>\n",
       "    <tr>\n",
       "      <th>4327</th>\n",
       "      <td>19.11.2021</td>\n",
       "      <td>Ergänzung</td>\n",
       "      <td>Neubau einer Rampe am Leine-Wehr Herrenhausen ...</td>\n",
       "      <td>2</td>\n",
       "      <td>1</td>\n",
       "      <td>5</td>\n",
       "      <td>1</td>\n",
       "      <td>2021-11-19</td>\n",
       "      <td>9</td>\n",
       "    </tr>\n",
       "    <tr>\n",
       "      <th>4581</th>\n",
       "      <td>10.12.2021</td>\n",
       "      <td>Ergänzung</td>\n",
       "      <td>Änderungsantrag des Stadtbezirksrats Südstadt-...</td>\n",
       "      <td>0</td>\n",
       "      <td>0</td>\n",
       "      <td>0</td>\n",
       "      <td>0</td>\n",
       "      <td>2021-12-10</td>\n",
       "      <td>0</td>\n",
       "    </tr>\n",
       "  </tbody>\n",
       "</table>\n",
       "</div>"
      ],
      "text/plain": [
       "     erscheinungstag vorlangentyp  \\\n",
       "63        13.01.2021    Ergänzung   \n",
       "125       19.01.2021    Ergänzung   \n",
       "1221      10.03.2021    Ergänzung   \n",
       "1436      16.03.2021    Ergänzung   \n",
       "1702      30.03.2021    Ergänzung   \n",
       "2009      28.04.2021    Ergänzung   \n",
       "2060      30.04.2021    Ergänzung   \n",
       "2377      26.05.2021    Ergänzung   \n",
       "2623      10.06.2021    Ergänzung   \n",
       "2723      18.06.2021    Ergänzung   \n",
       "2749      22.06.2021    Ergänzung   \n",
       "3717      22.09.2021    Ergänzung   \n",
       "4327      19.11.2021    Ergänzung   \n",
       "4581      10.12.2021    Ergänzung   \n",
       "\n",
       "                                                  titel  retweet_count  \\\n",
       "63    Ausbau der Lutherstraße zwischen Sallstraße un...              1   \n",
       "125   Programmdrucksache zu den Infrastrukturmaßnahm...              0   \n",
       "1221  1. Ergänzung zum Verwaltungsentwurf des Hausha...              0   \n",
       "1436  2. Ergänzung zum Verwaltungsentwurf des Hausha...              0   \n",
       "1702  \\r\\n1. Ergänzung zur Drucksache Nr. 0629/2021 ...              0   \n",
       "2009  Änderungsanträge des Stadtbezirksrates Linden-...              0   \n",
       "2060  Bushaltestelle „Kröpcke“ und Fahrbahnerneuerun...              0   \n",
       "2377  Ausbau der Veloroute 08 aus der Innenstadt Han...              0   \n",
       "2623  Antwort der Verwaltung auf die\\r\\nAnfrage Aufp...              1   \n",
       "2723  Bebauungsplan der Innenentwicklung Nr. 473, 2....              0   \n",
       "2749  Vorzeitige Teil-Inbetriebnahme der Stadtbahnve...              0   \n",
       "3717  Konzept zur Aufwertung Pastor-Jaeckel-Weg / Ha...              1   \n",
       "4327  Neubau einer Rampe am Leine-Wehr Herrenhausen ...              2   \n",
       "4581  Änderungsantrag des Stadtbezirksrats Südstadt-...              0   \n",
       "\n",
       "      reply_count  like_count  quote_count erscheinungstag_dt  engagement  \n",
       "63              0           0            0         2021-01-13           1  \n",
       "125             0           0            0         2021-01-19           0  \n",
       "1221            0           0            0         2021-03-10           0  \n",
       "1436            0           0            0         2021-03-16           0  \n",
       "1702            0           0            0         2021-03-30           0  \n",
       "2009            0           0            0         2021-04-28           0  \n",
       "2060            0           0            0         2021-04-30           0  \n",
       "2377            0           0            1         2021-05-26           1  \n",
       "2623            0           0            0         2021-06-10           1  \n",
       "2723            0           0            0         2021-06-18           0  \n",
       "2749            0           0            0         2021-06-22           0  \n",
       "3717            0           0            0         2021-09-22           1  \n",
       "4327            1           5            1         2021-11-19           9  \n",
       "4581            0           0            0         2021-12-10           0  "
      ]
     },
     "execution_count": 19,
     "metadata": {},
     "output_type": "execute_result"
    }
   ],
   "source": [
    "# why do we have such a high activity on the amendmend (Ergänzung)?\n",
    "df[df['vorlangentyp'] == 'Ergänzung']"
   ]
  },
  {
   "cell_type": "markdown",
   "id": "01e162b5",
   "metadata": {},
   "source": [
    "Tweet 4327 received an outstanding high engagement which creates a bias towards this small group of this type."
   ]
  },
  {
   "cell_type": "markdown",
   "id": "ce2c5542",
   "metadata": {},
   "source": [
    "## Prepare the title (titel) column for training a model\n",
    "We use a CountVectorizer for converting the text into a frequency matrix. This involves a list of stopwords of the german language and a custom preprocessor which drops number words like 02 2022, etc. These origin from dates mentioned in the titles. The vectorizer has been configured to drop words which occur more often than 15% and less than 0.1% as they won't contribute much to the result. "
   ]
  },
  {
   "cell_type": "code",
   "execution_count": 8,
   "id": "7547a930",
   "metadata": {},
   "outputs": [],
   "source": [
    "# stopwords from https://github.com/stopwords-iso/stopwords-de\n",
    "stopwords = pd.read_table(\"./stopwords-de.txt\", header=None)\n",
    "stopwords = stopwords[0].values.tolist()"
   ]
  },
  {
   "cell_type": "code",
   "execution_count": 9,
   "id": "1b9b7f47",
   "metadata": {},
   "outputs": [
    {
     "data": {
      "text/plain": [
       "<20x109 sparse matrix of type '<class 'numpy.int64'>'\n",
       "\twith 120 stored elements in Compressed Sparse Row format>"
      ]
     },
     "execution_count": 9,
     "metadata": {},
     "output_type": "execute_result"
    }
   ],
   "source": [
    "# tryout the CountVectorizer with a sample of the dataset\n",
    "testset = df.sample(20)\n",
    "\n",
    "# get rid of numbers as words which are derived from dates\n",
    "def preprocess_text(text):\n",
    "    \"\"\"\n",
    "    Custom text preprocessor.\n",
    "    \n",
    "    For usage in CountVectorizer. Converts text to lowercase and removes words which only contain digits.\n",
    "    \n",
    "    Parameters:\n",
    "    arg1 (string): Input text\n",
    "    \n",
    "    Returns:\n",
    "    string: Processed text\n",
    "    \"\"\"\n",
    "    text = text.lower()\n",
    "    text = re.sub(r'\\d+', '', text)\n",
    "    return text\n",
    "\n",
    "vectorizer = CountVectorizer(stop_words=stopwords, \n",
    "                             preprocessor=preprocess_text,\n",
    "                             max_df=0.15, min_df=0.001)\n",
    "vectorizer.fit_transform(testset['titel'])"
   ]
  },
  {
   "cell_type": "code",
   "execution_count": 22,
   "id": "277cb7fd",
   "metadata": {},
   "outputs": [
    {
     "data": {
      "text/plain": [
       "array(['ahlem', 'al', 'antrag', 'aschubi', 'aufstellungsbeschluss',\n",
       "       'badenstedt', 'ballhause', 'baugenehmigungsverfahren',\n",
       "       'bebauungsplan', 'beleuchtung', 'benennung', 'berggartenstr',\n",
       "       'beschluss', 'beteiligung', 'bezug', 'bildungsausschusses',\n",
       "       'brücke', 'buchholz', 'bündnis', 'bürgerpanel', 'cdu',\n",
       "       'davenstedt', 'deutliche', 'dringlichkeitsantrag', 'ds',\n",
       "       'durchführung', 'eberhard', 'eggers', 'einleitungsbeschluss',\n",
       "       'einrichtung', 'einzelhandelsmärkte', 'elternvertretung', 'et',\n",
       "       'fahrzeuge', 'fdp', 'fortsetzung', 'fraktion', 'frühzeitigen',\n",
       "       'fußgängerweg', 'garkenburgstraße', 'gartenstraße', 'gehweg',\n",
       "       'gemäß', 'geändert', 'graffiti', 'gruppe', 'grünen',\n",
       "       'hanomagstraße', 'hohen', 'hoher', 'hundetütenspender', 'höhe',\n",
       "       'innenentwicklung', 'kantplatz', 'kindergartengruppe',\n",
       "       'kindertagesstätte', 'kleefeld', 'ladestationen',\n",
       "       'landesrechnungshof', 'ledeburg', 'linke', 'markierung',\n",
       "       'maschseeordnung', 'medienentwicklungsplans', 'mehrfamilienhäuser',\n",
       "       'mitte', 'nachfüllbeutel', 'nds', 'neubebauung', 'neufassung',\n",
       "       'nkpg', 'nr', 'ottweiler', 'piraten', 'platz', 'prüfung',\n",
       "       'satzung', 'schul', 'schutz', 'spd', 'spielplatz', 'stadtteil',\n",
       "       'straße', 'störfaktoren', 'teilhaushalt', 'tempo', 'tiefbau',\n",
       "       'traße', 'ufer', 'umsetzung', 'umstrukturierung',\n",
       "       'verkehrsberuhigung', 'verkehrslage', 'verkehrssicherheit',\n",
       "       'vorhabenbezogener', 'wakitu', 'walter', 'wiesengarten', 'wp',\n",
       "       'wülferode', 'zuletzt', 'änderung', 'öffentliche',\n",
       "       'öffentlichkeit', 'überörtlichen'], dtype=object)"
      ]
     },
     "execution_count": 22,
     "metadata": {},
     "output_type": "execute_result"
    }
   ],
   "source": [
    "vectorizer.get_feature_names_out()"
   ]
  },
  {
   "cell_type": "code",
   "execution_count": 23,
   "id": "34744087",
   "metadata": {},
   "outputs": [
    {
     "data": {
      "text/plain": [
       "(5219, 849)"
      ]
     },
     "execution_count": 23,
     "metadata": {},
     "output_type": "execute_result"
    }
   ],
   "source": [
    "# apply the vectorizer to the entire dataset\n",
    "X = vectorizer.fit_transform(df['titel'])\n",
    "X.shape"
   ]
  },
  {
   "cell_type": "code",
   "execution_count": 24,
   "id": "7572d966",
   "metadata": {},
   "outputs": [
    {
     "data": {
      "text/plain": [
       "(849,)"
      ]
     },
     "metadata": {},
     "output_type": "display_data"
    }
   ],
   "source": [
    "# create a dataframe from the sparse matrix for inspection\n",
    "display(vectorizer.get_feature_names_out().shape)\n",
    "X_df = pd.DataFrame(X.todense(), columns=vectorizer.get_feature_names_out())"
   ]
  },
  {
   "cell_type": "code",
   "execution_count": 25,
   "id": "2fb21f0e",
   "metadata": {},
   "outputs": [
    {
     "data": {
      "text/plain": [
       "teilhaushalt       700\n",
       "produkt            570\n",
       "fraktion           384\n",
       "nr                 353\n",
       "hannover           336\n",
       "straße             315\n",
       "stadtbezirk        313\n",
       "änderungsantrag    249\n",
       "wülferode          230\n",
       "mitte              224\n",
       "bemerode           223\n",
       "kirchrode          221\n",
       "entscheidung       219\n",
       "misburg            216\n",
       "anderten           205\n",
       "limmer             194\n",
       "bothfeld           180\n",
       "vahrenheide        178\n",
       "antrag             176\n",
       "döhren             172\n",
       "dtype: int64"
      ]
     },
     "execution_count": 25,
     "metadata": {},
     "output_type": "execute_result"
    }
   ],
   "source": [
    "# show the top counted words for adjusting max_df of the vectorizer\n",
    "X_df.sum().sort_values(ascending=False).head(20)"
   ]
  },
  {
   "cell_type": "code",
   "execution_count": 26,
   "id": "503932d6",
   "metadata": {},
   "outputs": [
    {
     "data": {
      "text/plain": [
       "entwicklung        6\n",
       "sitzungen          6\n",
       "kleefelder         6\n",
       "erhebung           6\n",
       "seilbahn           6\n",
       "seelhorster        6\n",
       "schwule            6\n",
       "ersetzt            6\n",
       "schulergänzende    6\n",
       "scholz             6\n",
       "schafbrinke        6\n",
       "sau                6\n",
       "sandberge          6\n",
       "feind              6\n",
       "route              6\n",
       "rotfärbung         6\n",
       "ffp                6\n",
       "frauen             6\n",
       "freien             6\n",
       "radfahrende        6\n",
       "dtype: int64"
      ]
     },
     "execution_count": 26,
     "metadata": {},
     "output_type": "execute_result"
    }
   ],
   "source": [
    "# show the least counting words for adjusting min_df of the vectorizer\n",
    "X_df.sum().sort_values(ascending=True).head(20)"
   ]
  },
  {
   "cell_type": "code",
   "execution_count": 27,
   "id": "589ec554",
   "metadata": {},
   "outputs": [
    {
     "data": {
      "text/plain": [
       "0       1\n",
       "1       0\n",
       "2       0\n",
       "3       0\n",
       "4       0\n",
       "       ..\n",
       "5214    0\n",
       "5215    0\n",
       "5216    0\n",
       "5217    0\n",
       "5218    0\n",
       "Name: engagement, Length: 5219, dtype: int64"
      ]
     },
     "execution_count": 27,
     "metadata": {},
     "output_type": "execute_result"
    }
   ],
   "source": [
    "# split out the classification\n",
    "y = df['engagement'].apply(lambda x: 1 if x > 0 else 0)\n",
    "y"
   ]
  },
  {
   "cell_type": "code",
   "execution_count": 28,
   "id": "279aeac3",
   "metadata": {},
   "outputs": [],
   "source": [
    "# put this through a TfidfTransformer which isn't necessarry for the random forest but other classifiers have been tried\n",
    "scaler = TfidfTransformer()\n",
    "X_scaled = scaler.fit_transform(X)\n",
    "# split into train and test set\n",
    "X_train, X_test, y_train, y_test = train_test_split(X_scaled, y, test_size=0.3)"
   ]
  },
  {
   "cell_type": "markdown",
   "id": "6249fbfe",
   "metadata": {},
   "source": [
    "## Calculate a baseline from an informed random guess\n",
    "To decide if our model is better than just random guessing we set up a random_prediction of the same size as the test set. This can be used to comparing the model's metrics against. The random guess is \"informed\" as it reproduces the likelihood of finding an engagement from the entire dataset."
   ]
  },
  {
   "cell_type": "code",
   "execution_count": 29,
   "id": "7918ff6b",
   "metadata": {},
   "outputs": [
    {
     "data": {
      "text/plain": [
       "(381.0, 1566)"
      ]
     },
     "execution_count": 29,
     "metadata": {},
     "output_type": "execute_result"
    }
   ],
   "source": [
    "ratio_of_engaged = y.sum() / len(y)\n",
    "len_of_prediction = len(y_test)\n",
    "number_of_engaged_in_prediction = int(len_of_prediction * ratio_of_engaged)\n",
    "random_prediction = np.zeros(len_of_prediction)\n",
    "# draw some random indices for engaged in random predictionn\n",
    "indexes = np.random.choice(len_of_prediction, number_of_engaged_in_prediction, replace=False)\n",
    "random_prediction[indexes] = 1\n",
    "random_prediction.sum(), len(random_prediction)"
   ]
  },
  {
   "cell_type": "markdown",
   "id": "d8b40a47",
   "metadata": {},
   "source": [
    "## Fit and evaluate the model"
   ]
  },
  {
   "cell_type": "code",
   "execution_count": 30,
   "id": "415c58d4",
   "metadata": {},
   "outputs": [
    {
     "data": {
      "text/plain": [
       "RandomForestClassifier()"
      ]
     },
     "execution_count": 30,
     "metadata": {},
     "output_type": "execute_result"
    }
   ],
   "source": [
    "model = RandomForestClassifier()\n",
    "#model = AdaBoostClassifier()\n",
    "#model = DecisionTreeClassifier(max_depth=15, min_samples_split=30, min_samples_leaf=5)\n",
    "model.fit(X_train, y_train)"
   ]
  },
  {
   "cell_type": "code",
   "execution_count": 11,
   "id": "7803e8a0",
   "metadata": {},
   "outputs": [],
   "source": [
    "# this helper function prints the model's performance\n",
    "def print_scores(test, pred, title):\n",
    "    \"\"\"\n",
    "    Print model evaluation.\n",
    "    \n",
    "    Prints accuracy, precision, recall and the number of predictions plus a confusion matrix.\n",
    "    \n",
    "    Parameters:\n",
    "    arg1 (array-like): true classifier\n",
    "    arg2 (array-like): predicted classifier\n",
    "    arg3 (string): title for print and plot\n",
    "    \"\"\"\n",
    "    print('==== ', title, ' ====')\n",
    "    print('accuracy', accuracy_score(test, pred))\n",
    "    print('precision', precision_score(test, pred))\n",
    "    print('recall', recall_score(test, pred))\n",
    "    print('number of predictions ', len(pred))\n",
    "    display(confusion_matrix(test, pred, normalize='all'))\n",
    "    disp = ConfusionMatrixDisplay.from_predictions(test, pred, display_labels=('no engagement', 'engagement'))\n",
    "    disp.ax_.set_title(title)"
   ]
  },
  {
   "cell_type": "code",
   "execution_count": 32,
   "id": "919e13f2",
   "metadata": {},
   "outputs": [
    {
     "name": "stdout",
     "output_type": "stream",
     "text": [
      "====  Testset  ====\n",
      "accuracy 0.8167305236270753\n",
      "precision 0.6689655172413793\n",
      "recall 0.5038961038961038\n",
      "number of predictions  1566\n"
     ]
    },
    {
     "data": {
      "text/plain": [
       "array([[0.69284802, 0.06130268],\n",
       "       [0.12196679, 0.1238825 ]])"
      ]
     },
     "metadata": {},
     "output_type": "display_data"
    },
    {
     "data": {
      "image/png": "[encoded data removed]",
      "text/plain": [
       "<Figure size 432x288 with 2 Axes>"
      ]
     },
     "metadata": {
      "needs_background": "light"
     },
     "output_type": "display_data"
    }
   ],
   "source": [
    "y_pred = model.predict(X_test)\n",
    "print_scores(y_test, y_pred, 'Testset')\n"
   ]
  },
  {
   "cell_type": "code",
   "execution_count": 33,
   "id": "28bea729",
   "metadata": {},
   "outputs": [
    {
     "name": "stdout",
     "output_type": "stream",
     "text": [
      "====  Trainingset  ====\n",
      "accuracy 0.953462907199562\n",
      "precision 0.9578005115089514\n",
      "recall 0.845372460496614\n",
      "number of predictions  3653\n"
     ]
    },
    {
     "data": {
      "text/plain": [
       "array([[0.74842595, 0.00903367],\n",
       "       [0.03750342, 0.20503696]])"
      ]
     },
     "metadata": {},
     "output_type": "display_data"
    },
    {
     "data": {
      "image/png": "[encoded data removed]",
      "text/plain": [
       "<Figure size 432x288 with 2 Axes>"
      ]
     },
     "metadata": {
      "needs_background": "light"
     },
     "output_type": "display_data"
    }
   ],
   "source": [
    "y_train_pred = model.predict(X_train)\n",
    "print_scores(y_train, y_train_pred, 'Trainingset')"
   ]
  },
  {
   "cell_type": "code",
   "execution_count": 34,
   "id": "1037c41b",
   "metadata": {},
   "outputs": [
    {
     "name": "stdout",
     "output_type": "stream",
     "text": [
      "====  Informed random guess  ====\n",
      "accuracy 0.6411238825031929\n",
      "precision 0.2677165354330709\n",
      "recall 0.2649350649350649\n",
      "number of predictions  1566\n"
     ]
    },
    {
     "data": {
      "text/plain": [
       "array([[0.57598978, 0.17816092],\n",
       "       [0.1807152 , 0.0651341 ]])"
      ]
     },
     "metadata": {},
     "output_type": "display_data"
    },
    {
     "data": {
      "image/png": "[encoded data removed]",
      "text/plain": [
       "<Figure size 432x288 with 2 Axes>"
      ]
     },
     "metadata": {
      "needs_background": "light"
     },
     "output_type": "display_data"
    }
   ],
   "source": [
    "print_scores(y_test, random_prediction, 'Informed random guess')"
   ]
  },
  {
   "cell_type": "markdown",
   "id": "075f6b1f",
   "metadata": {},
   "source": [
    "## Can we identify an area of interest in the tweets which gain an engagement?\n",
    "To gain some insight into the model we evaluate the feature importances reported by the random forest model and map them to the corresponding words from the frequency matrix."
   ]
  },
  {
   "cell_type": "code",
   "execution_count": 35,
   "id": "c0bc38cc",
   "metadata": {},
   "outputs": [
    {
     "data": {
      "image/png": "[encoded data removed]",
      "text/plain": [
       "<Figure size 864x576 with 1 Axes>"
      ]
     },
     "metadata": {
      "needs_background": "light"
     },
     "output_type": "display_data"
    }
   ],
   "source": [
    "importance = pd.Series(model.feature_importances_, index=vectorizer.get_feature_names_out())\n",
    "importance.sort_values(ascending=True).tail(30).plot.barh(figsize=(12,8));"
   ]
  },
  {
   "cell_type": "markdown",
   "id": "505118b7",
   "metadata": {},
   "source": [
    "This indicates that words concerning traffic and bike traffic in particular are important for making a prediction about engagements. The random forest model doesn't give us an indication about the direction a word is pointing concerning the prediction as the random forest works on word combinations, so the model is more complex than that.\n",
    "\n",
    "Nevertheless we might get an idea about a direction if we look into a correlation among the words and the classification as a linear model would do. The following plot of the correlation between the top 30 words shown above and the engagement classifier encourages the finding that traffic and bike traffic is a topic which causes engagement on these tweets."
   ]
  },
  {
   "cell_type": "code",
   "execution_count": 36,
   "id": "0f34b00f",
   "metadata": {},
   "outputs": [
    {
     "data": {
      "image/png": "[encoded data removed]",
      "text/plain": [
       "<Figure size 576x576 with 1 Axes>"
      ]
     },
     "metadata": {
      "needs_background": "light"
     },
     "output_type": "display_data"
    }
   ],
   "source": [
    "feature_names = vectorizer.get_feature_names_out()\n",
    "top30features = importance.argsort()[-30:]\n",
    "important_df = pd.DataFrame(X[:,top30features].toarray(), columns=feature_names[top30features])\n",
    "important_df['engagement'] = y\n",
    "important_df.corr()['engagement'].drop('engagement').plot.barh(figsize=(8,8));"
   ]
  },
  {
   "cell_type": "code",
   "execution_count": null,
   "id": "57f7869b",
   "metadata": {},
   "outputs": [],
   "source": []
  }
 ],
 "metadata": {
  "kernelspec": {
   "display_name": "Python 3 (ipykernel)",
   "language": "python",
   "name": "python3"
  },
  "language_info": {
   "codemirror_mode": {
    "name": "ipython",
    "version": 3
   },
   "file_extension": ".py",
   "mimetype": "text/x-python",
   "name": "python",
   "nbconvert_exporter": "python",
   "pygments_lexer": "ipython3",
   "version": "3.8.12"
  }
 },
 "nbformat": 4,
 "nbformat_minor": 5
}
